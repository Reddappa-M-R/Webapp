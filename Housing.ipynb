{
 "cells": [
  {
   "cell_type": "markdown",
   "id": "cb9ec20f",
   "metadata": {},
   "source": [
    "# Lasso Regression Without Sklearn Packages"
   ]
  },
  {
   "cell_type": "markdown",
   "id": "694bbe13",
   "metadata": {},
   "source": [
    "## Importing required Libraries"
   ]
  },
  {
   "cell_type": "code",
   "execution_count": 51,
   "id": "e835ea06",
   "metadata": {},
   "outputs": [],
   "source": [
    "import pandas as pd\n",
    "import numpy as np\n",
    "import warnings\n",
    "warnings.filterwarnings('ignore')"
   ]
  },
  {
   "cell_type": "markdown",
   "id": "49ca789c",
   "metadata": {},
   "source": [
    "## Reading the dataset"
   ]
  },
  {
   "cell_type": "code",
   "execution_count": 52,
   "id": "41c37c01",
   "metadata": {},
   "outputs": [],
   "source": [
    "# Importing DataSet and take a look at Data\n",
    "data = pd.read_csv(\"boston_train.csv\")"
   ]
  },
  {
   "cell_type": "code",
   "execution_count": 53,
   "id": "db101734",
   "metadata": {},
   "outputs": [
    {
     "data": {
      "text/html": [
       "<div>\n",
       "<style scoped>\n",
       "    .dataframe tbody tr th:only-of-type {\n",
       "        vertical-align: middle;\n",
       "    }\n",
       "\n",
       "    .dataframe tbody tr th {\n",
       "        vertical-align: top;\n",
       "    }\n",
       "\n",
       "    .dataframe thead th {\n",
       "        text-align: right;\n",
       "    }\n",
       "</style>\n",
       "<table border=\"1\" class=\"dataframe\">\n",
       "  <thead>\n",
       "    <tr style=\"text-align: right;\">\n",
       "      <th></th>\n",
       "      <th>ID</th>\n",
       "      <th>crim</th>\n",
       "      <th>zn</th>\n",
       "      <th>indus</th>\n",
       "      <th>chas</th>\n",
       "      <th>nox</th>\n",
       "      <th>rm</th>\n",
       "      <th>age</th>\n",
       "      <th>dis</th>\n",
       "      <th>rad</th>\n",
       "      <th>tax</th>\n",
       "      <th>ptratio</th>\n",
       "      <th>black</th>\n",
       "      <th>lstat</th>\n",
       "      <th>medv</th>\n",
       "    </tr>\n",
       "  </thead>\n",
       "  <tbody>\n",
       "    <tr>\n",
       "      <th>0</th>\n",
       "      <td>1</td>\n",
       "      <td>0.00632</td>\n",
       "      <td>18.0</td>\n",
       "      <td>2.31</td>\n",
       "      <td>0</td>\n",
       "      <td>0.538</td>\n",
       "      <td>6.575</td>\n",
       "      <td>65.2</td>\n",
       "      <td>4.0900</td>\n",
       "      <td>1</td>\n",
       "      <td>296</td>\n",
       "      <td>15.3</td>\n",
       "      <td>396.90</td>\n",
       "      <td>4.98</td>\n",
       "      <td>24.0</td>\n",
       "    </tr>\n",
       "    <tr>\n",
       "      <th>1</th>\n",
       "      <td>2</td>\n",
       "      <td>0.02731</td>\n",
       "      <td>0.0</td>\n",
       "      <td>7.07</td>\n",
       "      <td>0</td>\n",
       "      <td>0.469</td>\n",
       "      <td>6.421</td>\n",
       "      <td>78.9</td>\n",
       "      <td>4.9671</td>\n",
       "      <td>2</td>\n",
       "      <td>242</td>\n",
       "      <td>17.8</td>\n",
       "      <td>396.90</td>\n",
       "      <td>9.14</td>\n",
       "      <td>21.6</td>\n",
       "    </tr>\n",
       "    <tr>\n",
       "      <th>2</th>\n",
       "      <td>4</td>\n",
       "      <td>0.03237</td>\n",
       "      <td>0.0</td>\n",
       "      <td>2.18</td>\n",
       "      <td>0</td>\n",
       "      <td>0.458</td>\n",
       "      <td>6.998</td>\n",
       "      <td>45.8</td>\n",
       "      <td>6.0622</td>\n",
       "      <td>3</td>\n",
       "      <td>222</td>\n",
       "      <td>18.7</td>\n",
       "      <td>394.63</td>\n",
       "      <td>2.94</td>\n",
       "      <td>33.4</td>\n",
       "    </tr>\n",
       "    <tr>\n",
       "      <th>3</th>\n",
       "      <td>5</td>\n",
       "      <td>0.06905</td>\n",
       "      <td>0.0</td>\n",
       "      <td>2.18</td>\n",
       "      <td>0</td>\n",
       "      <td>0.458</td>\n",
       "      <td>7.147</td>\n",
       "      <td>54.2</td>\n",
       "      <td>6.0622</td>\n",
       "      <td>3</td>\n",
       "      <td>222</td>\n",
       "      <td>18.7</td>\n",
       "      <td>396.90</td>\n",
       "      <td>5.33</td>\n",
       "      <td>36.2</td>\n",
       "    </tr>\n",
       "    <tr>\n",
       "      <th>4</th>\n",
       "      <td>7</td>\n",
       "      <td>0.08829</td>\n",
       "      <td>12.5</td>\n",
       "      <td>7.87</td>\n",
       "      <td>0</td>\n",
       "      <td>0.524</td>\n",
       "      <td>6.012</td>\n",
       "      <td>66.6</td>\n",
       "      <td>5.5605</td>\n",
       "      <td>5</td>\n",
       "      <td>311</td>\n",
       "      <td>15.2</td>\n",
       "      <td>395.60</td>\n",
       "      <td>12.43</td>\n",
       "      <td>22.9</td>\n",
       "    </tr>\n",
       "  </tbody>\n",
       "</table>\n",
       "</div>"
      ],
      "text/plain": [
       "   ID     crim    zn  indus  chas    nox     rm   age     dis  rad  tax  \\\n",
       "0   1  0.00632  18.0   2.31     0  0.538  6.575  65.2  4.0900    1  296   \n",
       "1   2  0.02731   0.0   7.07     0  0.469  6.421  78.9  4.9671    2  242   \n",
       "2   4  0.03237   0.0   2.18     0  0.458  6.998  45.8  6.0622    3  222   \n",
       "3   5  0.06905   0.0   2.18     0  0.458  7.147  54.2  6.0622    3  222   \n",
       "4   7  0.08829  12.5   7.87     0  0.524  6.012  66.6  5.5605    5  311   \n",
       "\n",
       "   ptratio   black  lstat  medv  \n",
       "0     15.3  396.90   4.98  24.0  \n",
       "1     17.8  396.90   9.14  21.6  \n",
       "2     18.7  394.63   2.94  33.4  \n",
       "3     18.7  396.90   5.33  36.2  \n",
       "4     15.2  395.60  12.43  22.9  "
      ]
     },
     "execution_count": 53,
     "metadata": {},
     "output_type": "execute_result"
    }
   ],
   "source": [
    "# checking first five rows\n",
    "data.head()"
   ]
  },
  {
   "cell_type": "code",
   "execution_count": 54,
   "id": "2a5337a2",
   "metadata": {},
   "outputs": [
    {
     "name": "stdout",
     "output_type": "stream",
     "text": [
      "<class 'pandas.core.frame.DataFrame'>\n",
      "RangeIndex: 333 entries, 0 to 332\n",
      "Data columns (total 15 columns):\n",
      " #   Column   Non-Null Count  Dtype  \n",
      "---  ------   --------------  -----  \n",
      " 0   ID       333 non-null    int64  \n",
      " 1   crim     333 non-null    float64\n",
      " 2   zn       333 non-null    float64\n",
      " 3   indus    333 non-null    float64\n",
      " 4   chas     333 non-null    int64  \n",
      " 5   nox      333 non-null    float64\n",
      " 6   rm       333 non-null    float64\n",
      " 7   age      333 non-null    float64\n",
      " 8   dis      333 non-null    float64\n",
      " 9   rad      333 non-null    int64  \n",
      " 10  tax      333 non-null    int64  \n",
      " 11  ptratio  333 non-null    float64\n",
      " 12  black    333 non-null    float64\n",
      " 13  lstat    333 non-null    float64\n",
      " 14  medv     333 non-null    float64\n",
      "dtypes: float64(11), int64(4)\n",
      "memory usage: 39.1 KB\n"
     ]
    }
   ],
   "source": [
    "#checking both no null values and columns dtype\n",
    "data.info()"
   ]
  },
  {
   "cell_type": "code",
   "execution_count": 55,
   "id": "449e57e0",
   "metadata": {},
   "outputs": [
    {
     "data": {
      "text/html": [
       "<div>\n",
       "<style scoped>\n",
       "    .dataframe tbody tr th:only-of-type {\n",
       "        vertical-align: middle;\n",
       "    }\n",
       "\n",
       "    .dataframe tbody tr th {\n",
       "        vertical-align: top;\n",
       "    }\n",
       "\n",
       "    .dataframe thead th {\n",
       "        text-align: right;\n",
       "    }\n",
       "</style>\n",
       "<table border=\"1\" class=\"dataframe\">\n",
       "  <thead>\n",
       "    <tr style=\"text-align: right;\">\n",
       "      <th></th>\n",
       "      <th>ID</th>\n",
       "      <th>crim</th>\n",
       "      <th>zn</th>\n",
       "      <th>indus</th>\n",
       "      <th>chas</th>\n",
       "      <th>nox</th>\n",
       "      <th>rm</th>\n",
       "      <th>age</th>\n",
       "      <th>dis</th>\n",
       "      <th>rad</th>\n",
       "      <th>tax</th>\n",
       "      <th>ptratio</th>\n",
       "      <th>black</th>\n",
       "      <th>lstat</th>\n",
       "      <th>medv</th>\n",
       "    </tr>\n",
       "  </thead>\n",
       "  <tbody>\n",
       "    <tr>\n",
       "      <th>count</th>\n",
       "      <td>333.000000</td>\n",
       "      <td>333.000000</td>\n",
       "      <td>333.000000</td>\n",
       "      <td>333.000000</td>\n",
       "      <td>333.000000</td>\n",
       "      <td>333.000000</td>\n",
       "      <td>333.000000</td>\n",
       "      <td>333.000000</td>\n",
       "      <td>333.000000</td>\n",
       "      <td>333.000000</td>\n",
       "      <td>333.000000</td>\n",
       "      <td>333.000000</td>\n",
       "      <td>333.000000</td>\n",
       "      <td>333.000000</td>\n",
       "      <td>333.000000</td>\n",
       "    </tr>\n",
       "    <tr>\n",
       "      <th>mean</th>\n",
       "      <td>250.951952</td>\n",
       "      <td>3.360341</td>\n",
       "      <td>10.689189</td>\n",
       "      <td>11.293483</td>\n",
       "      <td>0.060060</td>\n",
       "      <td>0.557144</td>\n",
       "      <td>6.265619</td>\n",
       "      <td>68.226426</td>\n",
       "      <td>3.709934</td>\n",
       "      <td>9.633634</td>\n",
       "      <td>409.279279</td>\n",
       "      <td>18.448048</td>\n",
       "      <td>359.466096</td>\n",
       "      <td>12.515435</td>\n",
       "      <td>22.768769</td>\n",
       "    </tr>\n",
       "    <tr>\n",
       "      <th>std</th>\n",
       "      <td>147.859438</td>\n",
       "      <td>7.352272</td>\n",
       "      <td>22.674762</td>\n",
       "      <td>6.998123</td>\n",
       "      <td>0.237956</td>\n",
       "      <td>0.114955</td>\n",
       "      <td>0.703952</td>\n",
       "      <td>28.133344</td>\n",
       "      <td>1.981123</td>\n",
       "      <td>8.742174</td>\n",
       "      <td>170.841988</td>\n",
       "      <td>2.151821</td>\n",
       "      <td>86.584567</td>\n",
       "      <td>7.067781</td>\n",
       "      <td>9.173468</td>\n",
       "    </tr>\n",
       "    <tr>\n",
       "      <th>min</th>\n",
       "      <td>1.000000</td>\n",
       "      <td>0.006320</td>\n",
       "      <td>0.000000</td>\n",
       "      <td>0.740000</td>\n",
       "      <td>0.000000</td>\n",
       "      <td>0.385000</td>\n",
       "      <td>3.561000</td>\n",
       "      <td>6.000000</td>\n",
       "      <td>1.129600</td>\n",
       "      <td>1.000000</td>\n",
       "      <td>188.000000</td>\n",
       "      <td>12.600000</td>\n",
       "      <td>3.500000</td>\n",
       "      <td>1.730000</td>\n",
       "      <td>5.000000</td>\n",
       "    </tr>\n",
       "    <tr>\n",
       "      <th>25%</th>\n",
       "      <td>123.000000</td>\n",
       "      <td>0.078960</td>\n",
       "      <td>0.000000</td>\n",
       "      <td>5.130000</td>\n",
       "      <td>0.000000</td>\n",
       "      <td>0.453000</td>\n",
       "      <td>5.884000</td>\n",
       "      <td>45.400000</td>\n",
       "      <td>2.122400</td>\n",
       "      <td>4.000000</td>\n",
       "      <td>279.000000</td>\n",
       "      <td>17.400000</td>\n",
       "      <td>376.730000</td>\n",
       "      <td>7.180000</td>\n",
       "      <td>17.400000</td>\n",
       "    </tr>\n",
       "    <tr>\n",
       "      <th>50%</th>\n",
       "      <td>244.000000</td>\n",
       "      <td>0.261690</td>\n",
       "      <td>0.000000</td>\n",
       "      <td>9.900000</td>\n",
       "      <td>0.000000</td>\n",
       "      <td>0.538000</td>\n",
       "      <td>6.202000</td>\n",
       "      <td>76.700000</td>\n",
       "      <td>3.092300</td>\n",
       "      <td>5.000000</td>\n",
       "      <td>330.000000</td>\n",
       "      <td>19.000000</td>\n",
       "      <td>392.050000</td>\n",
       "      <td>10.970000</td>\n",
       "      <td>21.600000</td>\n",
       "    </tr>\n",
       "    <tr>\n",
       "      <th>75%</th>\n",
       "      <td>377.000000</td>\n",
       "      <td>3.678220</td>\n",
       "      <td>12.500000</td>\n",
       "      <td>18.100000</td>\n",
       "      <td>0.000000</td>\n",
       "      <td>0.631000</td>\n",
       "      <td>6.595000</td>\n",
       "      <td>93.800000</td>\n",
       "      <td>5.116700</td>\n",
       "      <td>24.000000</td>\n",
       "      <td>666.000000</td>\n",
       "      <td>20.200000</td>\n",
       "      <td>396.240000</td>\n",
       "      <td>16.420000</td>\n",
       "      <td>25.000000</td>\n",
       "    </tr>\n",
       "    <tr>\n",
       "      <th>max</th>\n",
       "      <td>506.000000</td>\n",
       "      <td>73.534100</td>\n",
       "      <td>100.000000</td>\n",
       "      <td>27.740000</td>\n",
       "      <td>1.000000</td>\n",
       "      <td>0.871000</td>\n",
       "      <td>8.725000</td>\n",
       "      <td>100.000000</td>\n",
       "      <td>10.710300</td>\n",
       "      <td>24.000000</td>\n",
       "      <td>711.000000</td>\n",
       "      <td>21.200000</td>\n",
       "      <td>396.900000</td>\n",
       "      <td>37.970000</td>\n",
       "      <td>50.000000</td>\n",
       "    </tr>\n",
       "  </tbody>\n",
       "</table>\n",
       "</div>"
      ],
      "text/plain": [
       "               ID        crim          zn       indus        chas         nox  \\\n",
       "count  333.000000  333.000000  333.000000  333.000000  333.000000  333.000000   \n",
       "mean   250.951952    3.360341   10.689189   11.293483    0.060060    0.557144   \n",
       "std    147.859438    7.352272   22.674762    6.998123    0.237956    0.114955   \n",
       "min      1.000000    0.006320    0.000000    0.740000    0.000000    0.385000   \n",
       "25%    123.000000    0.078960    0.000000    5.130000    0.000000    0.453000   \n",
       "50%    244.000000    0.261690    0.000000    9.900000    0.000000    0.538000   \n",
       "75%    377.000000    3.678220   12.500000   18.100000    0.000000    0.631000   \n",
       "max    506.000000   73.534100  100.000000   27.740000    1.000000    0.871000   \n",
       "\n",
       "               rm         age         dis         rad         tax     ptratio  \\\n",
       "count  333.000000  333.000000  333.000000  333.000000  333.000000  333.000000   \n",
       "mean     6.265619   68.226426    3.709934    9.633634  409.279279   18.448048   \n",
       "std      0.703952   28.133344    1.981123    8.742174  170.841988    2.151821   \n",
       "min      3.561000    6.000000    1.129600    1.000000  188.000000   12.600000   \n",
       "25%      5.884000   45.400000    2.122400    4.000000  279.000000   17.400000   \n",
       "50%      6.202000   76.700000    3.092300    5.000000  330.000000   19.000000   \n",
       "75%      6.595000   93.800000    5.116700   24.000000  666.000000   20.200000   \n",
       "max      8.725000  100.000000   10.710300   24.000000  711.000000   21.200000   \n",
       "\n",
       "            black       lstat        medv  \n",
       "count  333.000000  333.000000  333.000000  \n",
       "mean   359.466096   12.515435   22.768769  \n",
       "std     86.584567    7.067781    9.173468  \n",
       "min      3.500000    1.730000    5.000000  \n",
       "25%    376.730000    7.180000   17.400000  \n",
       "50%    392.050000   10.970000   21.600000  \n",
       "75%    396.240000   16.420000   25.000000  \n",
       "max    396.900000   37.970000   50.000000  "
      ]
     },
     "execution_count": 55,
     "metadata": {},
     "output_type": "execute_result"
    }
   ],
   "source": [
    "#checking for the outliers\n",
    "data.describe()"
   ]
  },
  {
   "cell_type": "code",
   "execution_count": 56,
   "id": "704e8848",
   "metadata": {},
   "outputs": [
    {
     "data": {
      "text/html": [
       "<div>\n",
       "<style scoped>\n",
       "    .dataframe tbody tr th:only-of-type {\n",
       "        vertical-align: middle;\n",
       "    }\n",
       "\n",
       "    .dataframe tbody tr th {\n",
       "        vertical-align: top;\n",
       "    }\n",
       "\n",
       "    .dataframe thead th {\n",
       "        text-align: right;\n",
       "    }\n",
       "</style>\n",
       "<table border=\"1\" class=\"dataframe\">\n",
       "  <thead>\n",
       "    <tr style=\"text-align: right;\">\n",
       "      <th></th>\n",
       "      <th>ID</th>\n",
       "      <th>crim</th>\n",
       "      <th>zn</th>\n",
       "      <th>indus</th>\n",
       "      <th>chas</th>\n",
       "      <th>nox</th>\n",
       "      <th>rm</th>\n",
       "      <th>age</th>\n",
       "      <th>dis</th>\n",
       "      <th>rad</th>\n",
       "      <th>tax</th>\n",
       "      <th>ptratio</th>\n",
       "      <th>black</th>\n",
       "      <th>lstat</th>\n",
       "      <th>medv</th>\n",
       "    </tr>\n",
       "  </thead>\n",
       "  <tbody>\n",
       "    <tr>\n",
       "      <th>ID</th>\n",
       "      <td>1.000000</td>\n",
       "      <td>0.456312</td>\n",
       "      <td>-0.155639</td>\n",
       "      <td>0.421978</td>\n",
       "      <td>0.007958</td>\n",
       "      <td>0.440185</td>\n",
       "      <td>-0.112790</td>\n",
       "      <td>0.257300</td>\n",
       "      <td>-0.356461</td>\n",
       "      <td>0.707526</td>\n",
       "      <td>0.686246</td>\n",
       "      <td>0.309838</td>\n",
       "      <td>-0.271619</td>\n",
       "      <td>0.281953</td>\n",
       "      <td>-0.221694</td>\n",
       "    </tr>\n",
       "    <tr>\n",
       "      <th>crim</th>\n",
       "      <td>0.456312</td>\n",
       "      <td>1.000000</td>\n",
       "      <td>-0.210913</td>\n",
       "      <td>0.422228</td>\n",
       "      <td>-0.041195</td>\n",
       "      <td>0.463001</td>\n",
       "      <td>-0.310180</td>\n",
       "      <td>0.379034</td>\n",
       "      <td>-0.397067</td>\n",
       "      <td>0.666636</td>\n",
       "      <td>0.617081</td>\n",
       "      <td>0.313409</td>\n",
       "      <td>-0.475796</td>\n",
       "      <td>0.532077</td>\n",
       "      <td>-0.407454</td>\n",
       "    </tr>\n",
       "    <tr>\n",
       "      <th>zn</th>\n",
       "      <td>-0.155639</td>\n",
       "      <td>-0.210913</td>\n",
       "      <td>1.000000</td>\n",
       "      <td>-0.518679</td>\n",
       "      <td>-0.024442</td>\n",
       "      <td>-0.501990</td>\n",
       "      <td>0.328197</td>\n",
       "      <td>-0.544513</td>\n",
       "      <td>0.637142</td>\n",
       "      <td>-0.303663</td>\n",
       "      <td>-0.311180</td>\n",
       "      <td>-0.380449</td>\n",
       "      <td>0.168130</td>\n",
       "      <td>-0.388112</td>\n",
       "      <td>0.344842</td>\n",
       "    </tr>\n",
       "    <tr>\n",
       "      <th>indus</th>\n",
       "      <td>0.421978</td>\n",
       "      <td>0.422228</td>\n",
       "      <td>-0.518679</td>\n",
       "      <td>1.000000</td>\n",
       "      <td>0.037496</td>\n",
       "      <td>0.750087</td>\n",
       "      <td>-0.440365</td>\n",
       "      <td>0.638378</td>\n",
       "      <td>-0.702327</td>\n",
       "      <td>0.569779</td>\n",
       "      <td>0.708313</td>\n",
       "      <td>0.391087</td>\n",
       "      <td>-0.335049</td>\n",
       "      <td>0.614155</td>\n",
       "      <td>-0.473932</td>\n",
       "    </tr>\n",
       "    <tr>\n",
       "      <th>chas</th>\n",
       "      <td>0.007958</td>\n",
       "      <td>-0.041195</td>\n",
       "      <td>-0.024442</td>\n",
       "      <td>0.037496</td>\n",
       "      <td>1.000000</td>\n",
       "      <td>0.080275</td>\n",
       "      <td>0.112251</td>\n",
       "      <td>0.068286</td>\n",
       "      <td>-0.081834</td>\n",
       "      <td>0.007714</td>\n",
       "      <td>-0.021826</td>\n",
       "      <td>-0.125067</td>\n",
       "      <td>0.062029</td>\n",
       "      <td>-0.050055</td>\n",
       "      <td>0.204390</td>\n",
       "    </tr>\n",
       "    <tr>\n",
       "      <th>nox</th>\n",
       "      <td>0.440185</td>\n",
       "      <td>0.463001</td>\n",
       "      <td>-0.501990</td>\n",
       "      <td>0.750087</td>\n",
       "      <td>0.080275</td>\n",
       "      <td>1.000000</td>\n",
       "      <td>-0.338515</td>\n",
       "      <td>0.736000</td>\n",
       "      <td>-0.769364</td>\n",
       "      <td>0.612180</td>\n",
       "      <td>0.670722</td>\n",
       "      <td>0.192513</td>\n",
       "      <td>-0.369416</td>\n",
       "      <td>0.598874</td>\n",
       "      <td>-0.413054</td>\n",
       "    </tr>\n",
       "    <tr>\n",
       "      <th>rm</th>\n",
       "      <td>-0.112790</td>\n",
       "      <td>-0.310180</td>\n",
       "      <td>0.328197</td>\n",
       "      <td>-0.440365</td>\n",
       "      <td>0.112251</td>\n",
       "      <td>-0.338515</td>\n",
       "      <td>1.000000</td>\n",
       "      <td>-0.248573</td>\n",
       "      <td>0.269191</td>\n",
       "      <td>-0.272783</td>\n",
       "      <td>-0.356987</td>\n",
       "      <td>-0.366927</td>\n",
       "      <td>0.155202</td>\n",
       "      <td>-0.615747</td>\n",
       "      <td>0.689598</td>\n",
       "    </tr>\n",
       "    <tr>\n",
       "      <th>age</th>\n",
       "      <td>0.257300</td>\n",
       "      <td>0.379034</td>\n",
       "      <td>-0.544513</td>\n",
       "      <td>0.638378</td>\n",
       "      <td>0.068286</td>\n",
       "      <td>0.736000</td>\n",
       "      <td>-0.248573</td>\n",
       "      <td>1.000000</td>\n",
       "      <td>-0.764208</td>\n",
       "      <td>0.447380</td>\n",
       "      <td>0.511893</td>\n",
       "      <td>0.259293</td>\n",
       "      <td>-0.268054</td>\n",
       "      <td>0.588834</td>\n",
       "      <td>-0.358888</td>\n",
       "    </tr>\n",
       "    <tr>\n",
       "      <th>dis</th>\n",
       "      <td>-0.356461</td>\n",
       "      <td>-0.397067</td>\n",
       "      <td>0.637142</td>\n",
       "      <td>-0.702327</td>\n",
       "      <td>-0.081834</td>\n",
       "      <td>-0.769364</td>\n",
       "      <td>0.269191</td>\n",
       "      <td>-0.764208</td>\n",
       "      <td>1.000000</td>\n",
       "      <td>-0.477610</td>\n",
       "      <td>-0.529539</td>\n",
       "      <td>-0.231101</td>\n",
       "      <td>0.284374</td>\n",
       "      <td>-0.505939</td>\n",
       "      <td>0.249422</td>\n",
       "    </tr>\n",
       "    <tr>\n",
       "      <th>rad</th>\n",
       "      <td>0.707526</td>\n",
       "      <td>0.666636</td>\n",
       "      <td>-0.303663</td>\n",
       "      <td>0.569779</td>\n",
       "      <td>0.007714</td>\n",
       "      <td>0.612180</td>\n",
       "      <td>-0.272783</td>\n",
       "      <td>0.447380</td>\n",
       "      <td>-0.477610</td>\n",
       "      <td>1.000000</td>\n",
       "      <td>0.903562</td>\n",
       "      <td>0.470849</td>\n",
       "      <td>-0.406405</td>\n",
       "      <td>0.484568</td>\n",
       "      <td>-0.352251</td>\n",
       "    </tr>\n",
       "    <tr>\n",
       "      <th>tax</th>\n",
       "      <td>0.686246</td>\n",
       "      <td>0.617081</td>\n",
       "      <td>-0.311180</td>\n",
       "      <td>0.708313</td>\n",
       "      <td>-0.021826</td>\n",
       "      <td>0.670722</td>\n",
       "      <td>-0.356987</td>\n",
       "      <td>0.511893</td>\n",
       "      <td>-0.529539</td>\n",
       "      <td>0.903562</td>\n",
       "      <td>1.000000</td>\n",
       "      <td>0.467437</td>\n",
       "      <td>-0.406477</td>\n",
       "      <td>0.544485</td>\n",
       "      <td>-0.448078</td>\n",
       "    </tr>\n",
       "    <tr>\n",
       "      <th>ptratio</th>\n",
       "      <td>0.309838</td>\n",
       "      <td>0.313409</td>\n",
       "      <td>-0.380449</td>\n",
       "      <td>0.391087</td>\n",
       "      <td>-0.125067</td>\n",
       "      <td>0.192513</td>\n",
       "      <td>-0.366927</td>\n",
       "      <td>0.259293</td>\n",
       "      <td>-0.231101</td>\n",
       "      <td>0.470849</td>\n",
       "      <td>0.467437</td>\n",
       "      <td>1.000000</td>\n",
       "      <td>-0.164614</td>\n",
       "      <td>0.374802</td>\n",
       "      <td>-0.481376</td>\n",
       "    </tr>\n",
       "    <tr>\n",
       "      <th>black</th>\n",
       "      <td>-0.271619</td>\n",
       "      <td>-0.475796</td>\n",
       "      <td>0.168130</td>\n",
       "      <td>-0.335049</td>\n",
       "      <td>0.062029</td>\n",
       "      <td>-0.369416</td>\n",
       "      <td>0.155202</td>\n",
       "      <td>-0.268054</td>\n",
       "      <td>0.284374</td>\n",
       "      <td>-0.406405</td>\n",
       "      <td>-0.406477</td>\n",
       "      <td>-0.164614</td>\n",
       "      <td>1.000000</td>\n",
       "      <td>-0.356693</td>\n",
       "      <td>0.336660</td>\n",
       "    </tr>\n",
       "    <tr>\n",
       "      <th>lstat</th>\n",
       "      <td>0.281953</td>\n",
       "      <td>0.532077</td>\n",
       "      <td>-0.388112</td>\n",
       "      <td>0.614155</td>\n",
       "      <td>-0.050055</td>\n",
       "      <td>0.598874</td>\n",
       "      <td>-0.615747</td>\n",
       "      <td>0.588834</td>\n",
       "      <td>-0.505939</td>\n",
       "      <td>0.484568</td>\n",
       "      <td>0.544485</td>\n",
       "      <td>0.374802</td>\n",
       "      <td>-0.356693</td>\n",
       "      <td>1.000000</td>\n",
       "      <td>-0.738600</td>\n",
       "    </tr>\n",
       "    <tr>\n",
       "      <th>medv</th>\n",
       "      <td>-0.221694</td>\n",
       "      <td>-0.407454</td>\n",
       "      <td>0.344842</td>\n",
       "      <td>-0.473932</td>\n",
       "      <td>0.204390</td>\n",
       "      <td>-0.413054</td>\n",
       "      <td>0.689598</td>\n",
       "      <td>-0.358888</td>\n",
       "      <td>0.249422</td>\n",
       "      <td>-0.352251</td>\n",
       "      <td>-0.448078</td>\n",
       "      <td>-0.481376</td>\n",
       "      <td>0.336660</td>\n",
       "      <td>-0.738600</td>\n",
       "      <td>1.000000</td>\n",
       "    </tr>\n",
       "  </tbody>\n",
       "</table>\n",
       "</div>"
      ],
      "text/plain": [
       "               ID      crim        zn     indus      chas       nox        rm  \\\n",
       "ID       1.000000  0.456312 -0.155639  0.421978  0.007958  0.440185 -0.112790   \n",
       "crim     0.456312  1.000000 -0.210913  0.422228 -0.041195  0.463001 -0.310180   \n",
       "zn      -0.155639 -0.210913  1.000000 -0.518679 -0.024442 -0.501990  0.328197   \n",
       "indus    0.421978  0.422228 -0.518679  1.000000  0.037496  0.750087 -0.440365   \n",
       "chas     0.007958 -0.041195 -0.024442  0.037496  1.000000  0.080275  0.112251   \n",
       "nox      0.440185  0.463001 -0.501990  0.750087  0.080275  1.000000 -0.338515   \n",
       "rm      -0.112790 -0.310180  0.328197 -0.440365  0.112251 -0.338515  1.000000   \n",
       "age      0.257300  0.379034 -0.544513  0.638378  0.068286  0.736000 -0.248573   \n",
       "dis     -0.356461 -0.397067  0.637142 -0.702327 -0.081834 -0.769364  0.269191   \n",
       "rad      0.707526  0.666636 -0.303663  0.569779  0.007714  0.612180 -0.272783   \n",
       "tax      0.686246  0.617081 -0.311180  0.708313 -0.021826  0.670722 -0.356987   \n",
       "ptratio  0.309838  0.313409 -0.380449  0.391087 -0.125067  0.192513 -0.366927   \n",
       "black   -0.271619 -0.475796  0.168130 -0.335049  0.062029 -0.369416  0.155202   \n",
       "lstat    0.281953  0.532077 -0.388112  0.614155 -0.050055  0.598874 -0.615747   \n",
       "medv    -0.221694 -0.407454  0.344842 -0.473932  0.204390 -0.413054  0.689598   \n",
       "\n",
       "              age       dis       rad       tax   ptratio     black     lstat  \\\n",
       "ID       0.257300 -0.356461  0.707526  0.686246  0.309838 -0.271619  0.281953   \n",
       "crim     0.379034 -0.397067  0.666636  0.617081  0.313409 -0.475796  0.532077   \n",
       "zn      -0.544513  0.637142 -0.303663 -0.311180 -0.380449  0.168130 -0.388112   \n",
       "indus    0.638378 -0.702327  0.569779  0.708313  0.391087 -0.335049  0.614155   \n",
       "chas     0.068286 -0.081834  0.007714 -0.021826 -0.125067  0.062029 -0.050055   \n",
       "nox      0.736000 -0.769364  0.612180  0.670722  0.192513 -0.369416  0.598874   \n",
       "rm      -0.248573  0.269191 -0.272783 -0.356987 -0.366927  0.155202 -0.615747   \n",
       "age      1.000000 -0.764208  0.447380  0.511893  0.259293 -0.268054  0.588834   \n",
       "dis     -0.764208  1.000000 -0.477610 -0.529539 -0.231101  0.284374 -0.505939   \n",
       "rad      0.447380 -0.477610  1.000000  0.903562  0.470849 -0.406405  0.484568   \n",
       "tax      0.511893 -0.529539  0.903562  1.000000  0.467437 -0.406477  0.544485   \n",
       "ptratio  0.259293 -0.231101  0.470849  0.467437  1.000000 -0.164614  0.374802   \n",
       "black   -0.268054  0.284374 -0.406405 -0.406477 -0.164614  1.000000 -0.356693   \n",
       "lstat    0.588834 -0.505939  0.484568  0.544485  0.374802 -0.356693  1.000000   \n",
       "medv    -0.358888  0.249422 -0.352251 -0.448078 -0.481376  0.336660 -0.738600   \n",
       "\n",
       "             medv  \n",
       "ID      -0.221694  \n",
       "crim    -0.407454  \n",
       "zn       0.344842  \n",
       "indus   -0.473932  \n",
       "chas     0.204390  \n",
       "nox     -0.413054  \n",
       "rm       0.689598  \n",
       "age     -0.358888  \n",
       "dis      0.249422  \n",
       "rad     -0.352251  \n",
       "tax     -0.448078  \n",
       "ptratio -0.481376  \n",
       "black    0.336660  \n",
       "lstat   -0.738600  \n",
       "medv     1.000000  "
      ]
     },
     "execution_count": 56,
     "metadata": {},
     "output_type": "execute_result"
    }
   ],
   "source": [
    "#checking corrilation between numerical variables\n",
    "data.corr()"
   ]
  },
  {
   "cell_type": "code",
   "execution_count": 57,
   "id": "c354c09b",
   "metadata": {},
   "outputs": [],
   "source": [
    "#ID columns does not relevant for our analysis.\n",
    "data.drop(['ID'], axis = 1, inplace=True)"
   ]
  },
  {
   "cell_type": "markdown",
   "id": "4dcfba62",
   "metadata": {},
   "source": [
    "## Asssigning independent variables and dependent variable to 'X' and 'y'"
   ]
  },
  {
   "cell_type": "code",
   "execution_count": 58,
   "id": "e747587f",
   "metadata": {},
   "outputs": [],
   "source": [
    "X = data[['crim', 'zn', 'indus', 'chas', 'nox', 'rm', 'age', 'dis','rad', 'tax', 'ptratio', 'black', 'lstat']]\n",
    "y = data['medv']"
   ]
  },
  {
   "cell_type": "code",
   "execution_count": 59,
   "id": "316cbc11",
   "metadata": {},
   "outputs": [],
   "source": [
    "#Storing columns names\n",
    "columns_X = ['crim', 'zn', 'indus', 'chas', 'nox', 'rm', 'age', 'dis','rad', 'tax', 'ptratio', 'black', 'lstat']\n",
    "columns_y = ['medv']"
   ]
  },
  {
   "cell_type": "code",
   "execution_count": 60,
   "id": "5298482b",
   "metadata": {},
   "outputs": [
    {
     "data": {
      "text/html": [
       "<div>\n",
       "<style scoped>\n",
       "    .dataframe tbody tr th:only-of-type {\n",
       "        vertical-align: middle;\n",
       "    }\n",
       "\n",
       "    .dataframe tbody tr th {\n",
       "        vertical-align: top;\n",
       "    }\n",
       "\n",
       "    .dataframe thead th {\n",
       "        text-align: right;\n",
       "    }\n",
       "</style>\n",
       "<table border=\"1\" class=\"dataframe\">\n",
       "  <thead>\n",
       "    <tr style=\"text-align: right;\">\n",
       "      <th></th>\n",
       "      <th>crim</th>\n",
       "      <th>zn</th>\n",
       "      <th>indus</th>\n",
       "      <th>chas</th>\n",
       "      <th>nox</th>\n",
       "      <th>rm</th>\n",
       "      <th>age</th>\n",
       "      <th>dis</th>\n",
       "      <th>rad</th>\n",
       "      <th>tax</th>\n",
       "      <th>ptratio</th>\n",
       "      <th>black</th>\n",
       "      <th>lstat</th>\n",
       "    </tr>\n",
       "  </thead>\n",
       "  <tbody>\n",
       "    <tr>\n",
       "      <th>0</th>\n",
       "      <td>0.00632</td>\n",
       "      <td>18.0</td>\n",
       "      <td>2.31</td>\n",
       "      <td>0</td>\n",
       "      <td>0.538</td>\n",
       "      <td>6.575</td>\n",
       "      <td>65.2</td>\n",
       "      <td>4.0900</td>\n",
       "      <td>1</td>\n",
       "      <td>296</td>\n",
       "      <td>15.3</td>\n",
       "      <td>396.90</td>\n",
       "      <td>4.98</td>\n",
       "    </tr>\n",
       "    <tr>\n",
       "      <th>1</th>\n",
       "      <td>0.02731</td>\n",
       "      <td>0.0</td>\n",
       "      <td>7.07</td>\n",
       "      <td>0</td>\n",
       "      <td>0.469</td>\n",
       "      <td>6.421</td>\n",
       "      <td>78.9</td>\n",
       "      <td>4.9671</td>\n",
       "      <td>2</td>\n",
       "      <td>242</td>\n",
       "      <td>17.8</td>\n",
       "      <td>396.90</td>\n",
       "      <td>9.14</td>\n",
       "    </tr>\n",
       "    <tr>\n",
       "      <th>2</th>\n",
       "      <td>0.03237</td>\n",
       "      <td>0.0</td>\n",
       "      <td>2.18</td>\n",
       "      <td>0</td>\n",
       "      <td>0.458</td>\n",
       "      <td>6.998</td>\n",
       "      <td>45.8</td>\n",
       "      <td>6.0622</td>\n",
       "      <td>3</td>\n",
       "      <td>222</td>\n",
       "      <td>18.7</td>\n",
       "      <td>394.63</td>\n",
       "      <td>2.94</td>\n",
       "    </tr>\n",
       "    <tr>\n",
       "      <th>3</th>\n",
       "      <td>0.06905</td>\n",
       "      <td>0.0</td>\n",
       "      <td>2.18</td>\n",
       "      <td>0</td>\n",
       "      <td>0.458</td>\n",
       "      <td>7.147</td>\n",
       "      <td>54.2</td>\n",
       "      <td>6.0622</td>\n",
       "      <td>3</td>\n",
       "      <td>222</td>\n",
       "      <td>18.7</td>\n",
       "      <td>396.90</td>\n",
       "      <td>5.33</td>\n",
       "    </tr>\n",
       "    <tr>\n",
       "      <th>4</th>\n",
       "      <td>0.08829</td>\n",
       "      <td>12.5</td>\n",
       "      <td>7.87</td>\n",
       "      <td>0</td>\n",
       "      <td>0.524</td>\n",
       "      <td>6.012</td>\n",
       "      <td>66.6</td>\n",
       "      <td>5.5605</td>\n",
       "      <td>5</td>\n",
       "      <td>311</td>\n",
       "      <td>15.2</td>\n",
       "      <td>395.60</td>\n",
       "      <td>12.43</td>\n",
       "    </tr>\n",
       "    <tr>\n",
       "      <th>...</th>\n",
       "      <td>...</td>\n",
       "      <td>...</td>\n",
       "      <td>...</td>\n",
       "      <td>...</td>\n",
       "      <td>...</td>\n",
       "      <td>...</td>\n",
       "      <td>...</td>\n",
       "      <td>...</td>\n",
       "      <td>...</td>\n",
       "      <td>...</td>\n",
       "      <td>...</td>\n",
       "      <td>...</td>\n",
       "      <td>...</td>\n",
       "    </tr>\n",
       "    <tr>\n",
       "      <th>328</th>\n",
       "      <td>0.17783</td>\n",
       "      <td>0.0</td>\n",
       "      <td>9.69</td>\n",
       "      <td>0</td>\n",
       "      <td>0.585</td>\n",
       "      <td>5.569</td>\n",
       "      <td>73.5</td>\n",
       "      <td>2.3999</td>\n",
       "      <td>6</td>\n",
       "      <td>391</td>\n",
       "      <td>19.2</td>\n",
       "      <td>395.77</td>\n",
       "      <td>15.10</td>\n",
       "    </tr>\n",
       "    <tr>\n",
       "      <th>329</th>\n",
       "      <td>0.06263</td>\n",
       "      <td>0.0</td>\n",
       "      <td>11.93</td>\n",
       "      <td>0</td>\n",
       "      <td>0.573</td>\n",
       "      <td>6.593</td>\n",
       "      <td>69.1</td>\n",
       "      <td>2.4786</td>\n",
       "      <td>1</td>\n",
       "      <td>273</td>\n",
       "      <td>21.0</td>\n",
       "      <td>391.99</td>\n",
       "      <td>9.67</td>\n",
       "    </tr>\n",
       "    <tr>\n",
       "      <th>330</th>\n",
       "      <td>0.04527</td>\n",
       "      <td>0.0</td>\n",
       "      <td>11.93</td>\n",
       "      <td>0</td>\n",
       "      <td>0.573</td>\n",
       "      <td>6.120</td>\n",
       "      <td>76.7</td>\n",
       "      <td>2.2875</td>\n",
       "      <td>1</td>\n",
       "      <td>273</td>\n",
       "      <td>21.0</td>\n",
       "      <td>396.90</td>\n",
       "      <td>9.08</td>\n",
       "    </tr>\n",
       "    <tr>\n",
       "      <th>331</th>\n",
       "      <td>0.06076</td>\n",
       "      <td>0.0</td>\n",
       "      <td>11.93</td>\n",
       "      <td>0</td>\n",
       "      <td>0.573</td>\n",
       "      <td>6.976</td>\n",
       "      <td>91.0</td>\n",
       "      <td>2.1675</td>\n",
       "      <td>1</td>\n",
       "      <td>273</td>\n",
       "      <td>21.0</td>\n",
       "      <td>396.90</td>\n",
       "      <td>5.64</td>\n",
       "    </tr>\n",
       "    <tr>\n",
       "      <th>332</th>\n",
       "      <td>0.04741</td>\n",
       "      <td>0.0</td>\n",
       "      <td>11.93</td>\n",
       "      <td>0</td>\n",
       "      <td>0.573</td>\n",
       "      <td>6.030</td>\n",
       "      <td>80.8</td>\n",
       "      <td>2.5050</td>\n",
       "      <td>1</td>\n",
       "      <td>273</td>\n",
       "      <td>21.0</td>\n",
       "      <td>396.90</td>\n",
       "      <td>7.88</td>\n",
       "    </tr>\n",
       "  </tbody>\n",
       "</table>\n",
       "<p>333 rows × 13 columns</p>\n",
       "</div>"
      ],
      "text/plain": [
       "        crim    zn  indus  chas    nox     rm   age     dis  rad  tax  \\\n",
       "0    0.00632  18.0   2.31     0  0.538  6.575  65.2  4.0900    1  296   \n",
       "1    0.02731   0.0   7.07     0  0.469  6.421  78.9  4.9671    2  242   \n",
       "2    0.03237   0.0   2.18     0  0.458  6.998  45.8  6.0622    3  222   \n",
       "3    0.06905   0.0   2.18     0  0.458  7.147  54.2  6.0622    3  222   \n",
       "4    0.08829  12.5   7.87     0  0.524  6.012  66.6  5.5605    5  311   \n",
       "..       ...   ...    ...   ...    ...    ...   ...     ...  ...  ...   \n",
       "328  0.17783   0.0   9.69     0  0.585  5.569  73.5  2.3999    6  391   \n",
       "329  0.06263   0.0  11.93     0  0.573  6.593  69.1  2.4786    1  273   \n",
       "330  0.04527   0.0  11.93     0  0.573  6.120  76.7  2.2875    1  273   \n",
       "331  0.06076   0.0  11.93     0  0.573  6.976  91.0  2.1675    1  273   \n",
       "332  0.04741   0.0  11.93     0  0.573  6.030  80.8  2.5050    1  273   \n",
       "\n",
       "     ptratio   black  lstat  \n",
       "0       15.3  396.90   4.98  \n",
       "1       17.8  396.90   9.14  \n",
       "2       18.7  394.63   2.94  \n",
       "3       18.7  396.90   5.33  \n",
       "4       15.2  395.60  12.43  \n",
       "..       ...     ...    ...  \n",
       "328     19.2  395.77  15.10  \n",
       "329     21.0  391.99   9.67  \n",
       "330     21.0  396.90   9.08  \n",
       "331     21.0  396.90   5.64  \n",
       "332     21.0  396.90   7.88  \n",
       "\n",
       "[333 rows x 13 columns]"
      ]
     },
     "execution_count": 60,
     "metadata": {},
     "output_type": "execute_result"
    }
   ],
   "source": [
    "X"
   ]
  },
  {
   "cell_type": "code",
   "execution_count": 61,
   "id": "3926c4c6",
   "metadata": {},
   "outputs": [
    {
     "data": {
      "text/plain": [
       "0      24.0\n",
       "1      21.6\n",
       "2      33.4\n",
       "3      36.2\n",
       "4      22.9\n",
       "       ... \n",
       "328    17.5\n",
       "329    22.4\n",
       "330    20.6\n",
       "331    23.9\n",
       "332    11.9\n",
       "Name: medv, Length: 333, dtype: float64"
      ]
     },
     "execution_count": 61,
     "metadata": {},
     "output_type": "execute_result"
    }
   ],
   "source": [
    "y"
   ]
  },
  {
   "cell_type": "markdown",
   "id": "226980ff",
   "metadata": {},
   "source": [
    "## Creating \" train_test_split \" function to split the dataset"
   ]
  },
  {
   "cell_type": "code",
   "execution_count": 62,
   "id": "61da0ac2",
   "metadata": {},
   "outputs": [],
   "source": [
    "import random\n",
    "\n",
    "def train_test_split(X, y, test_size=0.2, random_state=None):\n",
    "    \n",
    "    X=X.values\n",
    "    # Set random seed\n",
    "    if random_state:\n",
    "        random.seed(random_state)\n",
    "\n",
    "    # Determine number of test samples\n",
    "    n_samples = len(X)\n",
    "    n_test = int(test_size * n_samples)\n",
    "\n",
    "    # Shuffle indices\n",
    "    indices = list(range(n_samples))\n",
    "    random.shuffle(indices)\n",
    "\n",
    "    # Split indices into training and testing sets\n",
    "    test_indices = indices[:n_test]\n",
    "    train_indices = indices[n_test:]\n",
    "\n",
    "    # Split data into training and testing sets\n",
    "    X_train = [X[i] for i in train_indices]\n",
    "    X_test = [X[i] for i in test_indices]\n",
    "    y_train = [y[i] for i in train_indices]\n",
    "    y_test = [y[i] for i in test_indices]\n",
    "\n",
    "    return X_train, X_test, y_train, y_test\n"
   ]
  },
  {
   "cell_type": "code",
   "execution_count": 63,
   "id": "0ce0bf47",
   "metadata": {},
   "outputs": [],
   "source": [
    "# Split the data into training and testing sets.\n",
    "X_train, X_test, y_train, y_test = train_test_split(X, y, test_size=0.2, random_state = 42)\n"
   ]
  },
  {
   "cell_type": "markdown",
   "id": "58f2f003",
   "metadata": {},
   "source": [
    "## Defining \" StandardScaler \" function to scale the data"
   ]
  },
  {
   "cell_type": "code",
   "execution_count": 64,
   "id": "1cc9dfb7",
   "metadata": {},
   "outputs": [],
   "source": [
    "import numpy as np\n",
    "\n",
    "class StandardScaler:\n",
    "    def __init__(self):\n",
    "        self.mean = None\n",
    "        self.std = None\n",
    "    \n",
    "    def fit(self, X):\n",
    "        self.mean = np.mean(X, axis=0)\n",
    "        self.std = np.std(X, axis=0)\n",
    "    \n",
    "    def transform(self, X):\n",
    "        X_scaled = ((X - self.mean) / self.std)\n",
    "        return X_scaled\n",
    "    \n",
    "    def fit_transform(self, X):\n",
    "        self.fit(X)\n",
    "        X_scaled = self.transform(X)\n",
    "        return X_scaled"
   ]
  },
  {
   "cell_type": "code",
   "execution_count": 65,
   "id": "8506dc9e",
   "metadata": {},
   "outputs": [],
   "source": [
    "# Scaling the dataset\n",
    "scaler = StandardScaler()\n",
    "X_train = scaler.fit_transform(X_train)\n",
    "X_test = scaler.transform(X_test)"
   ]
  },
  {
   "cell_type": "code",
   "execution_count": 66,
   "id": "50f3758b",
   "metadata": {},
   "outputs": [],
   "source": [
    "# Converting scaled data to DataFrame\n",
    "X_train_scaled = pd.DataFrame(X_train,columns = columns_X)\n",
    "X_test_scaled = pd.DataFrame(X_test,columns = columns_X)\n",
    "y_train_s = pd.DataFrame(y_train,columns = columns_y)\n",
    "y_test_s = pd.DataFrame(y_test,columns = columns_y)"
   ]
  },
  {
   "cell_type": "code",
   "execution_count": 67,
   "id": "5cbe4099",
   "metadata": {},
   "outputs": [
    {
     "data": {
      "text/html": [
       "<div>\n",
       "<style scoped>\n",
       "    .dataframe tbody tr th:only-of-type {\n",
       "        vertical-align: middle;\n",
       "    }\n",
       "\n",
       "    .dataframe tbody tr th {\n",
       "        vertical-align: top;\n",
       "    }\n",
       "\n",
       "    .dataframe thead th {\n",
       "        text-align: right;\n",
       "    }\n",
       "</style>\n",
       "<table border=\"1\" class=\"dataframe\">\n",
       "  <thead>\n",
       "    <tr style=\"text-align: right;\">\n",
       "      <th></th>\n",
       "      <th>crim</th>\n",
       "      <th>zn</th>\n",
       "      <th>indus</th>\n",
       "      <th>chas</th>\n",
       "      <th>nox</th>\n",
       "      <th>rm</th>\n",
       "      <th>age</th>\n",
       "      <th>dis</th>\n",
       "      <th>rad</th>\n",
       "      <th>tax</th>\n",
       "      <th>ptratio</th>\n",
       "      <th>black</th>\n",
       "      <th>lstat</th>\n",
       "    </tr>\n",
       "  </thead>\n",
       "  <tbody>\n",
       "    <tr>\n",
       "      <th>0</th>\n",
       "      <td>-0.409068</td>\n",
       "      <td>0.461073</td>\n",
       "      <td>-0.743356</td>\n",
       "      <td>-0.268866</td>\n",
       "      <td>-1.082013</td>\n",
       "      <td>0.263654</td>\n",
       "      <td>-1.966647</td>\n",
       "      <td>1.830619</td>\n",
       "      <td>-0.266148</td>\n",
       "      <td>-0.403498</td>\n",
       "      <td>0.319545</td>\n",
       "      <td>0.411127</td>\n",
       "      <td>-0.894929</td>\n",
       "    </tr>\n",
       "    <tr>\n",
       "      <th>1</th>\n",
       "      <td>-0.271793</td>\n",
       "      <td>-0.495770</td>\n",
       "      <td>1.535723</td>\n",
       "      <td>-0.268866</td>\n",
       "      <td>0.639096</td>\n",
       "      <td>0.035763</td>\n",
       "      <td>1.067527</td>\n",
       "      <td>-0.747264</td>\n",
       "      <td>-0.616205</td>\n",
       "      <td>0.227180</td>\n",
       "      <td>1.306700</td>\n",
       "      <td>0.418166</td>\n",
       "      <td>0.016422</td>\n",
       "    </tr>\n",
       "    <tr>\n",
       "      <th>2</th>\n",
       "      <td>-0.108293</td>\n",
       "      <td>-0.495770</td>\n",
       "      <td>1.207297</td>\n",
       "      <td>-0.268866</td>\n",
       "      <td>2.841759</td>\n",
       "      <td>-1.456145</td>\n",
       "      <td>0.934983</td>\n",
       "      <td>-1.016132</td>\n",
       "      <td>-0.499520</td>\n",
       "      <td>0.026778</td>\n",
       "      <td>-1.748781</td>\n",
       "      <td>-3.081662</td>\n",
       "      <td>0.572404</td>\n",
       "    </tr>\n",
       "    <tr>\n",
       "      <th>3</th>\n",
       "      <td>-0.385859</td>\n",
       "      <td>-0.495770</td>\n",
       "      <td>-0.168966</td>\n",
       "      <td>-0.268866</td>\n",
       "      <td>-0.074317</td>\n",
       "      <td>-0.547411</td>\n",
       "      <td>0.548099</td>\n",
       "      <td>0.121603</td>\n",
       "      <td>-0.616205</td>\n",
       "      <td>-0.556747</td>\n",
       "      <td>-0.009507</td>\n",
       "      <td>0.347777</td>\n",
       "      <td>0.886219</td>\n",
       "    </tr>\n",
       "    <tr>\n",
       "      <th>4</th>\n",
       "      <td>-0.376850</td>\n",
       "      <td>-0.495770</td>\n",
       "      <td>2.070305</td>\n",
       "      <td>-0.268866</td>\n",
       "      <td>0.255636</td>\n",
       "      <td>-0.973469</td>\n",
       "      <td>0.992299</td>\n",
       "      <td>-1.005671</td>\n",
       "      <td>-0.849577</td>\n",
       "      <td>-1.240474</td>\n",
       "      <td>0.319545</td>\n",
       "      <td>-0.008825</td>\n",
       "      <td>2.165837</td>\n",
       "    </tr>\n",
       "  </tbody>\n",
       "</table>\n",
       "</div>"
      ],
      "text/plain": [
       "       crim        zn     indus      chas       nox        rm       age  \\\n",
       "0 -0.409068  0.461073 -0.743356 -0.268866 -1.082013  0.263654 -1.966647   \n",
       "1 -0.271793 -0.495770  1.535723 -0.268866  0.639096  0.035763  1.067527   \n",
       "2 -0.108293 -0.495770  1.207297 -0.268866  2.841759 -1.456145  0.934983   \n",
       "3 -0.385859 -0.495770 -0.168966 -0.268866 -0.074317 -0.547411  0.548099   \n",
       "4 -0.376850 -0.495770  2.070305 -0.268866  0.255636 -0.973469  0.992299   \n",
       "\n",
       "        dis       rad       tax   ptratio     black     lstat  \n",
       "0  1.830619 -0.266148 -0.403498  0.319545  0.411127 -0.894929  \n",
       "1 -0.747264 -0.616205  0.227180  1.306700  0.418166  0.016422  \n",
       "2 -1.016132 -0.499520  0.026778 -1.748781 -3.081662  0.572404  \n",
       "3  0.121603 -0.616205 -0.556747 -0.009507  0.347777  0.886219  \n",
       "4 -1.005671 -0.849577 -1.240474  0.319545 -0.008825  2.165837  "
      ]
     },
     "execution_count": 67,
     "metadata": {},
     "output_type": "execute_result"
    }
   ],
   "source": [
    "X_train_scaled.head()"
   ]
  },
  {
   "cell_type": "code",
   "execution_count": 68,
   "id": "8125922c",
   "metadata": {},
   "outputs": [
    {
     "data": {
      "text/html": [
       "<div>\n",
       "<style scoped>\n",
       "    .dataframe tbody tr th:only-of-type {\n",
       "        vertical-align: middle;\n",
       "    }\n",
       "\n",
       "    .dataframe tbody tr th {\n",
       "        vertical-align: top;\n",
       "    }\n",
       "\n",
       "    .dataframe thead th {\n",
       "        text-align: right;\n",
       "    }\n",
       "</style>\n",
       "<table border=\"1\" class=\"dataframe\">\n",
       "  <thead>\n",
       "    <tr style=\"text-align: right;\">\n",
       "      <th></th>\n",
       "      <th>crim</th>\n",
       "      <th>zn</th>\n",
       "      <th>indus</th>\n",
       "      <th>chas</th>\n",
       "      <th>nox</th>\n",
       "      <th>rm</th>\n",
       "      <th>age</th>\n",
       "      <th>dis</th>\n",
       "      <th>rad</th>\n",
       "      <th>tax</th>\n",
       "      <th>ptratio</th>\n",
       "      <th>black</th>\n",
       "      <th>lstat</th>\n",
       "    </tr>\n",
       "  </thead>\n",
       "  <tbody>\n",
       "    <tr>\n",
       "      <th>0</th>\n",
       "      <td>-0.420359</td>\n",
       "      <td>-0.495770</td>\n",
       "      <td>0.402581</td>\n",
       "      <td>-0.268866</td>\n",
       "      <td>-1.028507</td>\n",
       "      <td>0.351414</td>\n",
       "      <td>-0.605388</td>\n",
       "      <td>1.108256</td>\n",
       "      <td>-0.616205</td>\n",
       "      <td>-0.645160</td>\n",
       "      <td>-1.137685</td>\n",
       "      <td>0.372186</td>\n",
       "      <td>-0.681421</td>\n",
       "    </tr>\n",
       "    <tr>\n",
       "      <th>1</th>\n",
       "      <td>-0.417095</td>\n",
       "      <td>1.461409</td>\n",
       "      <td>-1.087422</td>\n",
       "      <td>-0.268866</td>\n",
       "      <td>-1.028507</td>\n",
       "      <td>0.681219</td>\n",
       "      <td>-0.960032</td>\n",
       "      <td>0.015987</td>\n",
       "      <td>-0.499520</td>\n",
       "      <td>-0.002693</td>\n",
       "      <td>-1.513744</td>\n",
       "      <td>0.383766</td>\n",
       "      <td>-0.783160</td>\n",
       "    </tr>\n",
       "    <tr>\n",
       "      <th>2</th>\n",
       "      <td>1.441891</td>\n",
       "      <td>-0.495770</td>\n",
       "      <td>0.996877</td>\n",
       "      <td>-0.268866</td>\n",
       "      <td>0.549919</td>\n",
       "      <td>-0.101538</td>\n",
       "      <td>0.720047</td>\n",
       "      <td>-0.908102</td>\n",
       "      <td>1.717508</td>\n",
       "      <td>1.576950</td>\n",
       "      <td>0.836626</td>\n",
       "      <td>0.263991</td>\n",
       "      <td>0.138223</td>\n",
       "    </tr>\n",
       "    <tr>\n",
       "      <th>3</th>\n",
       "      <td>-0.418735</td>\n",
       "      <td>-0.495770</td>\n",
       "      <td>-1.115857</td>\n",
       "      <td>-0.268866</td>\n",
       "      <td>-0.823401</td>\n",
       "      <td>-0.612523</td>\n",
       "      <td>-1.508118</td>\n",
       "      <td>0.733169</td>\n",
       "      <td>-0.616205</td>\n",
       "      <td>0.185921</td>\n",
       "      <td>-0.714618</td>\n",
       "      <td>0.254000</td>\n",
       "      <td>-0.311722</td>\n",
       "    </tr>\n",
       "    <tr>\n",
       "      <th>4</th>\n",
       "      <td>0.538176</td>\n",
       "      <td>-0.495770</td>\n",
       "      <td>0.996877</td>\n",
       "      <td>-0.268866</td>\n",
       "      <td>0.398319</td>\n",
       "      <td>-0.967807</td>\n",
       "      <td>1.074691</td>\n",
       "      <td>-1.157808</td>\n",
       "      <td>1.717508</td>\n",
       "      <td>1.576950</td>\n",
       "      <td>0.836626</td>\n",
       "      <td>-0.515742</td>\n",
       "      <td>2.042604</td>\n",
       "    </tr>\n",
       "  </tbody>\n",
       "</table>\n",
       "</div>"
      ],
      "text/plain": [
       "       crim        zn     indus      chas       nox        rm       age  \\\n",
       "0 -0.420359 -0.495770  0.402581 -0.268866 -1.028507  0.351414 -0.605388   \n",
       "1 -0.417095  1.461409 -1.087422 -0.268866 -1.028507  0.681219 -0.960032   \n",
       "2  1.441891 -0.495770  0.996877 -0.268866  0.549919 -0.101538  0.720047   \n",
       "3 -0.418735 -0.495770 -1.115857 -0.268866 -0.823401 -0.612523 -1.508118   \n",
       "4  0.538176 -0.495770  0.996877 -0.268866  0.398319 -0.967807  1.074691   \n",
       "\n",
       "        dis       rad       tax   ptratio     black     lstat  \n",
       "0  1.108256 -0.616205 -0.645160 -1.137685  0.372186 -0.681421  \n",
       "1  0.015987 -0.499520 -0.002693 -1.513744  0.383766 -0.783160  \n",
       "2 -0.908102  1.717508  1.576950  0.836626  0.263991  0.138223  \n",
       "3  0.733169 -0.616205  0.185921 -0.714618  0.254000 -0.311722  \n",
       "4 -1.157808  1.717508  1.576950  0.836626 -0.515742  2.042604  "
      ]
     },
     "execution_count": 68,
     "metadata": {},
     "output_type": "execute_result"
    }
   ],
   "source": [
    "X_test_scaled.head()"
   ]
  },
  {
   "cell_type": "code",
   "execution_count": 69,
   "id": "7bf0548f",
   "metadata": {},
   "outputs": [
    {
     "data": {
      "text/html": [
       "<div>\n",
       "<style scoped>\n",
       "    .dataframe tbody tr th:only-of-type {\n",
       "        vertical-align: middle;\n",
       "    }\n",
       "\n",
       "    .dataframe tbody tr th {\n",
       "        vertical-align: top;\n",
       "    }\n",
       "\n",
       "    .dataframe thead th {\n",
       "        text-align: right;\n",
       "    }\n",
       "</style>\n",
       "<table border=\"1\" class=\"dataframe\">\n",
       "  <thead>\n",
       "    <tr style=\"text-align: right;\">\n",
       "      <th></th>\n",
       "      <th>medv</th>\n",
       "    </tr>\n",
       "  </thead>\n",
       "  <tbody>\n",
       "    <tr>\n",
       "      <th>0</th>\n",
       "      <td>24.4</td>\n",
       "    </tr>\n",
       "    <tr>\n",
       "      <th>1</th>\n",
       "      <td>19.6</td>\n",
       "    </tr>\n",
       "    <tr>\n",
       "      <th>2</th>\n",
       "      <td>13.1</td>\n",
       "    </tr>\n",
       "    <tr>\n",
       "      <th>3</th>\n",
       "      <td>17.8</td>\n",
       "    </tr>\n",
       "    <tr>\n",
       "      <th>4</th>\n",
       "      <td>15.7</td>\n",
       "    </tr>\n",
       "    <tr>\n",
       "      <th>...</th>\n",
       "      <td>...</td>\n",
       "    </tr>\n",
       "    <tr>\n",
       "      <th>262</th>\n",
       "      <td>37.2</td>\n",
       "    </tr>\n",
       "    <tr>\n",
       "      <th>263</th>\n",
       "      <td>24.1</td>\n",
       "    </tr>\n",
       "    <tr>\n",
       "      <th>264</th>\n",
       "      <td>20.2</td>\n",
       "    </tr>\n",
       "    <tr>\n",
       "      <th>265</th>\n",
       "      <td>23.9</td>\n",
       "    </tr>\n",
       "    <tr>\n",
       "      <th>266</th>\n",
       "      <td>18.3</td>\n",
       "    </tr>\n",
       "  </tbody>\n",
       "</table>\n",
       "<p>267 rows × 1 columns</p>\n",
       "</div>"
      ],
      "text/plain": [
       "     medv\n",
       "0    24.4\n",
       "1    19.6\n",
       "2    13.1\n",
       "3    17.8\n",
       "4    15.7\n",
       "..    ...\n",
       "262  37.2\n",
       "263  24.1\n",
       "264  20.2\n",
       "265  23.9\n",
       "266  18.3\n",
       "\n",
       "[267 rows x 1 columns]"
      ]
     },
     "execution_count": 69,
     "metadata": {},
     "output_type": "execute_result"
    }
   ],
   "source": [
    "y_train_s"
   ]
  },
  {
   "cell_type": "code",
   "execution_count": 70,
   "id": "c3012538",
   "metadata": {},
   "outputs": [
    {
     "data": {
      "text/html": [
       "<div>\n",
       "<style scoped>\n",
       "    .dataframe tbody tr th:only-of-type {\n",
       "        vertical-align: middle;\n",
       "    }\n",
       "\n",
       "    .dataframe tbody tr th {\n",
       "        vertical-align: top;\n",
       "    }\n",
       "\n",
       "    .dataframe thead th {\n",
       "        text-align: right;\n",
       "    }\n",
       "</style>\n",
       "<table border=\"1\" class=\"dataframe\">\n",
       "  <thead>\n",
       "    <tr style=\"text-align: right;\">\n",
       "      <th></th>\n",
       "      <th>medv</th>\n",
       "    </tr>\n",
       "  </thead>\n",
       "  <tbody>\n",
       "    <tr>\n",
       "      <th>0</th>\n",
       "      <td>27.1</td>\n",
       "    </tr>\n",
       "    <tr>\n",
       "      <th>1</th>\n",
       "      <td>32.0</td>\n",
       "    </tr>\n",
       "    <tr>\n",
       "      <th>2</th>\n",
       "      <td>21.4</td>\n",
       "    </tr>\n",
       "    <tr>\n",
       "      <th>3</th>\n",
       "      <td>19.3</td>\n",
       "    </tr>\n",
       "    <tr>\n",
       "      <th>4</th>\n",
       "      <td>17.2</td>\n",
       "    </tr>\n",
       "    <tr>\n",
       "      <th>...</th>\n",
       "      <td>...</td>\n",
       "    </tr>\n",
       "    <tr>\n",
       "      <th>61</th>\n",
       "      <td>11.7</td>\n",
       "    </tr>\n",
       "    <tr>\n",
       "      <th>62</th>\n",
       "      <td>19.9</td>\n",
       "    </tr>\n",
       "    <tr>\n",
       "      <th>63</th>\n",
       "      <td>21.4</td>\n",
       "    </tr>\n",
       "    <tr>\n",
       "      <th>64</th>\n",
       "      <td>10.5</td>\n",
       "    </tr>\n",
       "    <tr>\n",
       "      <th>65</th>\n",
       "      <td>35.4</td>\n",
       "    </tr>\n",
       "  </tbody>\n",
       "</table>\n",
       "<p>66 rows × 1 columns</p>\n",
       "</div>"
      ],
      "text/plain": [
       "    medv\n",
       "0   27.1\n",
       "1   32.0\n",
       "2   21.4\n",
       "3   19.3\n",
       "4   17.2\n",
       "..   ...\n",
       "61  11.7\n",
       "62  19.9\n",
       "63  21.4\n",
       "64  10.5\n",
       "65  35.4\n",
       "\n",
       "[66 rows x 1 columns]"
      ]
     },
     "execution_count": 70,
     "metadata": {},
     "output_type": "execute_result"
    }
   ],
   "source": [
    "y_test_s"
   ]
  },
  {
   "cell_type": "markdown",
   "id": "3d753be3",
   "metadata": {},
   "source": [
    "## Building the LassoRegression algorithm from skratch"
   ]
  },
  {
   "cell_type": "code",
   "execution_count": 71,
   "id": "38573413",
   "metadata": {},
   "outputs": [],
   "source": [
    "import numpy as np\n",
    "\n",
    "class LassoRegression:\n",
    "    def __init__(self, alpha, max_iter=1000, tol=1e-4):\n",
    "        self.alpha = alpha\n",
    "        self.max_iter = max_iter\n",
    "        self.tol = tol\n",
    "        self.coef_ = None\n",
    "        self.intercept_ = None\n",
    "    \n",
    "    def fit(self, X, y):\n",
    "        m, n = X.shape\n",
    "        theta = np.zeros(n)\n",
    "        self.intercept_ = np.mean(y)\n",
    "        X_centered = X - np.mean(X, axis=0)\n",
    "        for iteration in range(self.max_iter):\n",
    "            old_theta = theta.copy()\n",
    "            for j in range(n):\n",
    "                X_j = X_centered[:, j]\n",
    "                y_pred = X_centered.dot(theta) + self.intercept_\n",
    "                r = y - y_pred + theta[j] * X_j\n",
    "                z = X_j.dot(X_j)\n",
    "                if z == 0:\n",
    "                    theta[j] = 0\n",
    "                else:\n",
    "                    theta[j] = np.sign(np.sum(X_j*r)) * max(0, np.abs(np.sum(X_j*r)) - self.alpha) / z\n",
    "            self.intercept_ = np.mean(y - X_centered.dot(theta))\n",
    "            if np.sum(np.abs(theta - old_theta)) < self.tol:\n",
    "                break\n",
    "        self.coef_ = theta\n",
    "    \n",
    "    def predict(self, X):\n",
    "        return X.dot(self.coef_) + self.intercept_"
   ]
  },
  {
   "cell_type": "code",
   "execution_count": 72,
   "id": "f57c1eed",
   "metadata": {},
   "outputs": [],
   "source": [
    "# Fit the Lasso regression model\n",
    "lasso = LassoRegression(alpha=1)\n",
    "lasso.fit(X_train, y_train)\n",
    "\n",
    "# Make predictions on the testing set\n",
    "y_pred = lasso.predict(X_test)"
   ]
  },
  {
   "cell_type": "code",
   "execution_count": 73,
   "id": "0753af4a",
   "metadata": {},
   "outputs": [
    {
     "data": {
      "text/plain": [
       "(66,)"
      ]
     },
     "execution_count": 73,
     "metadata": {},
     "output_type": "execute_result"
    }
   ],
   "source": [
    "y_pred.shape"
   ]
  },
  {
   "cell_type": "markdown",
   "id": "86012c02",
   "metadata": {},
   "source": [
    "## Performence matrics"
   ]
  },
  {
   "cell_type": "markdown",
   "id": "bbb1a8f3",
   "metadata": {},
   "source": [
    "### R2_score"
   ]
  },
  {
   "cell_type": "code",
   "execution_count": 74,
   "id": "9003a2c6",
   "metadata": {},
   "outputs": [],
   "source": [
    "import numpy as np\n",
    "\n",
    "def r2_score(y_test, y_pred):\n",
    "    sse = np.sum((y_test - y_pred) ** 2)\n",
    "    sst = np.sum((y_test - np.mean(y_test)) ** 2)\n",
    "    r2 = 1 - sse / sst\n",
    "    return r2\n"
   ]
  },
  {
   "cell_type": "code",
   "execution_count": 75,
   "id": "6e2a3d78",
   "metadata": {},
   "outputs": [
    {
     "name": "stdout",
     "output_type": "stream",
     "text": [
      "R-squared: 77.88090285819405\n"
     ]
    }
   ],
   "source": [
    "r2 = r2_score(y_test, y_pred)\n",
    "print(\"R-squared:\", r2*100)"
   ]
  },
  {
   "cell_type": "markdown",
   "id": "6983fb31",
   "metadata": {},
   "source": [
    "### Adjusted R2_Score"
   ]
  },
  {
   "cell_type": "code",
   "execution_count": 76,
   "id": "29c51551",
   "metadata": {},
   "outputs": [],
   "source": [
    "import numpy as np\n",
    "\n",
    "def adjusted_r2_score(y_test, y_pred, n_features):\n",
    "    sse = np.sum((y_test - y_pred) ** 2)\n",
    "    sst = np.sum((y_test - np.mean(y_test)) ** 2)\n",
    "    r2 = 1 - sse / sst\n",
    "    adj_r2 = 1 - ((1 - r2) * (len(y_test) - 1)) / (len(y_test) - n_features - 1)\n",
    "    return adj_r2\n"
   ]
  },
  {
   "cell_type": "code",
   "execution_count": 77,
   "id": "fe558696",
   "metadata": {},
   "outputs": [
    {
     "name": "stdout",
     "output_type": "stream",
     "text": [
      "Adjusted R-squared: 77.53529196535332\n"
     ]
    }
   ],
   "source": [
    "n_features = 1\n",
    "adj_r2 = adjusted_r2_score(y_test, y_pred, n_features)\n",
    "print(\"Adjusted R-squared:\", adj_r2*100)\n"
   ]
  },
  {
   "cell_type": "markdown",
   "id": "0b40291d",
   "metadata": {},
   "source": [
    "### Mean Absolute Error"
   ]
  },
  {
   "cell_type": "code",
   "execution_count": 78,
   "id": "1bd76180",
   "metadata": {},
   "outputs": [],
   "source": [
    "import numpy as np\n",
    "\n",
    "def mean_absolute_error(y_test, y_pred):\n",
    "    mae = np.mean(np.abs(y_test - y_pred))\n",
    "    return mae\n"
   ]
  },
  {
   "cell_type": "code",
   "execution_count": 79,
   "id": "3603d1cf",
   "metadata": {},
   "outputs": [
    {
     "name": "stdout",
     "output_type": "stream",
     "text": [
      "Mean absolute error: 2.8055740193607863\n"
     ]
    }
   ],
   "source": [
    "mae = mean_absolute_error(y_test, y_pred)\n",
    "print(\"Mean absolute error:\", mae)"
   ]
  },
  {
   "cell_type": "markdown",
   "id": "6d689796",
   "metadata": {},
   "source": [
    "### Mean Squared Error"
   ]
  },
  {
   "cell_type": "code",
   "execution_count": 80,
   "id": "84b3edde",
   "metadata": {},
   "outputs": [],
   "source": [
    "import numpy as np\n",
    "\n",
    "def mean_squared_error(y_test, y_pred):\n",
    "    mse = np.mean((y_test - y_pred) ** 2)\n",
    "    return mse"
   ]
  },
  {
   "cell_type": "code",
   "execution_count": 81,
   "id": "efdd70f1",
   "metadata": {},
   "outputs": [
    {
     "name": "stdout",
     "output_type": "stream",
     "text": [
      "Mean squared error: 15.243409309059123\n"
     ]
    }
   ],
   "source": [
    "mse = mean_squared_error(y_test, y_pred)\n",
    "print(\"Mean squared error:\", mse)\n"
   ]
  },
  {
   "cell_type": "markdown",
   "id": "9d089864",
   "metadata": {},
   "source": [
    "### Root Mean Squared Error"
   ]
  },
  {
   "cell_type": "code",
   "execution_count": 82,
   "id": "bd578585",
   "metadata": {},
   "outputs": [],
   "source": [
    "import numpy as np\n",
    "\n",
    "def root_mean_squared_error(y_test, y_pred):\n",
    "    mse = np.mean((y_test - y_pred) ** 2)\n",
    "    rmse = np.sqrt(mse)\n",
    "    return rmse\n"
   ]
  },
  {
   "cell_type": "code",
   "execution_count": 83,
   "id": "e4c2eb40",
   "metadata": {},
   "outputs": [
    {
     "name": "stdout",
     "output_type": "stream",
     "text": [
      "Root mean squared error: 3.9042808952557606\n"
     ]
    }
   ],
   "source": [
    "rmse = root_mean_squared_error(y_test, y_pred)\n",
    "print(\"Root mean squared error:\", rmse)"
   ]
  },
  {
   "cell_type": "markdown",
   "id": "89f6e713",
   "metadata": {},
   "source": [
    "# Hyperparameter tuning"
   ]
  },
  {
   "cell_type": "markdown",
   "id": "5a269c9d",
   "metadata": {},
   "source": [
    "## Grid search CV"
   ]
  },
  {
   "cell_type": "markdown",
   "id": "3c170176",
   "metadata": {},
   "source": [
    "### Building the \"Grid-search-CV\" function"
   ]
  },
  {
   "cell_type": "code",
   "execution_count": 84,
   "id": "e49049ed",
   "metadata": {},
   "outputs": [],
   "source": [
    "import numpy as np\n",
    "\n",
    "def lasso_regression(X_train, y_train, X_test, y_test, alpha):\n",
    "    \n",
    "    lasso = LassoRegression(alpha=alpha)\n",
    "    lasso.fit(X_train, y_train)\n",
    "    y_pred = lasso.predict(X_test)\n",
    "    Mse = np.mean((y_pred - y_test)**2)\n",
    "    return Mse\n",
    "\n",
    "def grid_search(X_train, y_train, X_test, y_test, alpha_values):\n",
    "    \n",
    "    best_alpha = None\n",
    "    best_mse = float('inf')\n",
    "    \n",
    "    for alpha in alpha_values:\n",
    "        Mse = lasso_regression(X_train, y_train, X_test, y_test, alpha)\n",
    "        if Mse < best_mse:\n",
    "            best_mse = Mse\n",
    "            best_alpha = alpha\n",
    "    \n",
    "    return best_alpha"
   ]
  },
  {
   "cell_type": "code",
   "execution_count": 85,
   "id": "0f3f5a10",
   "metadata": {},
   "outputs": [
    {
     "name": "stdout",
     "output_type": "stream",
     "text": [
      "Best alpha: 10\n"
     ]
    }
   ],
   "source": [
    "alpha_values = [0.1, 1, 9, 10,100]\n",
    "best_alpha = grid_search(X_train, y_train, X_test, y_test, alpha_values)\n",
    "\n",
    "print(\"Best alpha:\", best_alpha)"
   ]
  },
  {
   "cell_type": "code",
   "execution_count": 86,
   "id": "7d4b411c",
   "metadata": {},
   "outputs": [],
   "source": [
    "# Fit the Lasso regression model\n",
    "lasso_grid = LassoRegression(alpha=10)\n",
    "lasso_grid.fit(X_train, y_train)\n",
    "\n",
    "# Make predictions on the testing set\n",
    "y_pred_grid = lasso_grid.predict(X_test)"
   ]
  },
  {
   "cell_type": "code",
   "execution_count": 87,
   "id": "9085e0a3",
   "metadata": {},
   "outputs": [],
   "source": [
    "import numpy as np\n",
    "\n",
    "def r2_score(y_test, y_pred_grid):\n",
    "    sse = np.sum((y_test - y_pred_grid) ** 2)\n",
    "    sst = np.sum((y_test - np.mean(y_test)) ** 2)\n",
    "    r2 = 1 - sse / sst\n",
    "    return r2\n"
   ]
  },
  {
   "cell_type": "code",
   "execution_count": 88,
   "id": "53c32464",
   "metadata": {},
   "outputs": [
    {
     "name": "stdout",
     "output_type": "stream",
     "text": [
      "R-squared: 78.09998690952604\n"
     ]
    }
   ],
   "source": [
    "r2_grid = r2_score(y_test, y_pred_grid)\n",
    "print(\"R-squared:\", r2_grid*100)\n"
   ]
  },
  {
   "cell_type": "code",
   "execution_count": 89,
   "id": "d24c213e",
   "metadata": {},
   "outputs": [],
   "source": [
    "import numpy as np\n",
    "\n",
    "def adjusted_r2_score(y_test, y_pred_grid, n_features):\n",
    "    sse = np.sum((y_test - y_pred_grid) ** 2)\n",
    "    sst = np.sum((y_test - np.mean(y_test)) ** 2)\n",
    "    r2 = 1 - sse / sst\n",
    "    adj_r2 = 1 - ((1 - r2) * (len(y_test) - 1)) / (len(y_test) - n_features - 1)\n",
    "    return adj_r2\n"
   ]
  },
  {
   "cell_type": "code",
   "execution_count": 90,
   "id": "3215717e",
   "metadata": {},
   "outputs": [
    {
     "name": "stdout",
     "output_type": "stream",
     "text": [
      "Adjusted R-squared: 77.75779920498738\n"
     ]
    }
   ],
   "source": [
    "n_features = 1\n",
    "adj_r2_grid = adjusted_r2_score(y_test, y_pred_grid, n_features)\n",
    "print(\"Adjusted R-squared:\", adj_r2_grid*100)\n"
   ]
  },
  {
   "cell_type": "code",
   "execution_count": 91,
   "id": "99ee298f",
   "metadata": {},
   "outputs": [],
   "source": [
    "import numpy as np\n",
    "\n",
    "def mean_absolute_error(y_test, y_pred_grid):\n",
    "    mae = np.mean(np.abs(y_test - y_pred_grid))\n",
    "    return mae\n"
   ]
  },
  {
   "cell_type": "code",
   "execution_count": 92,
   "id": "503760f2",
   "metadata": {},
   "outputs": [
    {
     "name": "stdout",
     "output_type": "stream",
     "text": [
      "Mean absolute error: 2.8180580734118115\n"
     ]
    }
   ],
   "source": [
    "mae_grid = mean_absolute_error(y_test, y_pred_grid)\n",
    "print(\"Mean absolute error:\", mae_grid)"
   ]
  },
  {
   "cell_type": "code",
   "execution_count": 93,
   "id": "4ec5c442",
   "metadata": {},
   "outputs": [],
   "source": [
    "import numpy as np\n",
    "\n",
    "def mean_squared_error(y_test, y_pred_grid):\n",
    "    mse = np.mean((y_test - y_pred_grid) ** 2)\n",
    "    return mse"
   ]
  },
  {
   "cell_type": "code",
   "execution_count": 94,
   "id": "847c71cc",
   "metadata": {},
   "outputs": [
    {
     "name": "stdout",
     "output_type": "stream",
     "text": [
      "Mean squared error: 15.092427203138149\n"
     ]
    }
   ],
   "source": [
    "mse_grid = mean_squared_error(y_test, y_pred_grid)\n",
    "print(\"Mean squared error:\", mse_grid)"
   ]
  },
  {
   "cell_type": "code",
   "execution_count": 95,
   "id": "7a05f7de",
   "metadata": {},
   "outputs": [],
   "source": [
    "import numpy as np\n",
    "\n",
    "def root_mean_squared_error(y_test, y_pred_grid):\n",
    "    mse = np.mean((y_test - y_pred_grid) ** 2)\n",
    "    rmse = np.sqrt(mse)\n",
    "    return rmse\n"
   ]
  },
  {
   "cell_type": "code",
   "execution_count": 96,
   "id": "2cd48e95",
   "metadata": {},
   "outputs": [
    {
     "name": "stdout",
     "output_type": "stream",
     "text": [
      "Root mean squared error: 3.8848973220843495\n"
     ]
    }
   ],
   "source": [
    "rmse_grid = root_mean_squared_error(y_test, y_pred_grid)\n",
    "print(\"Root mean squared error:\", rmse_grid)"
   ]
  },
  {
   "cell_type": "code",
   "execution_count": 138,
   "id": "560ca5d7",
   "metadata": {},
   "outputs": [],
   "source": [
    "import pickle\n",
    "# open a file, where you ant to store the data\n",
    "file1 = open('lasso1.pkl', 'wb')\n",
    "\n",
    "# dump information to that file\n",
    "pickle.dump(lasso, file1)\n",
    "file1.close()"
   ]
  },
  {
   "cell_type": "code",
   "execution_count": 139,
   "id": "36ceb28b",
   "metadata": {},
   "outputs": [],
   "source": [
    "from sklearn.linear_model import Lasso\n",
    "sk_model = Lasso(alpha=0.01)"
   ]
  },
  {
   "cell_type": "code",
   "execution_count": 140,
   "id": "b7cccf13",
   "metadata": {},
   "outputs": [
    {
     "data": {
      "text/html": [
       "<style>#sk-container-id-2 {color: black;background-color: white;}#sk-container-id-2 pre{padding: 0;}#sk-container-id-2 div.sk-toggleable {background-color: white;}#sk-container-id-2 label.sk-toggleable__label {cursor: pointer;display: block;width: 100%;margin-bottom: 0;padding: 0.3em;box-sizing: border-box;text-align: center;}#sk-container-id-2 label.sk-toggleable__label-arrow:before {content: \"▸\";float: left;margin-right: 0.25em;color: #696969;}#sk-container-id-2 label.sk-toggleable__label-arrow:hover:before {color: black;}#sk-container-id-2 div.sk-estimator:hover label.sk-toggleable__label-arrow:before {color: black;}#sk-container-id-2 div.sk-toggleable__content {max-height: 0;max-width: 0;overflow: hidden;text-align: left;background-color: #f0f8ff;}#sk-container-id-2 div.sk-toggleable__content pre {margin: 0.2em;color: black;border-radius: 0.25em;background-color: #f0f8ff;}#sk-container-id-2 input.sk-toggleable__control:checked~div.sk-toggleable__content {max-height: 200px;max-width: 100%;overflow: auto;}#sk-container-id-2 input.sk-toggleable__control:checked~label.sk-toggleable__label-arrow:before {content: \"▾\";}#sk-container-id-2 div.sk-estimator input.sk-toggleable__control:checked~label.sk-toggleable__label {background-color: #d4ebff;}#sk-container-id-2 div.sk-label input.sk-toggleable__control:checked~label.sk-toggleable__label {background-color: #d4ebff;}#sk-container-id-2 input.sk-hidden--visually {border: 0;clip: rect(1px 1px 1px 1px);clip: rect(1px, 1px, 1px, 1px);height: 1px;margin: -1px;overflow: hidden;padding: 0;position: absolute;width: 1px;}#sk-container-id-2 div.sk-estimator {font-family: monospace;background-color: #f0f8ff;border: 1px dotted black;border-radius: 0.25em;box-sizing: border-box;margin-bottom: 0.5em;}#sk-container-id-2 div.sk-estimator:hover {background-color: #d4ebff;}#sk-container-id-2 div.sk-parallel-item::after {content: \"\";width: 100%;border-bottom: 1px solid gray;flex-grow: 1;}#sk-container-id-2 div.sk-label:hover label.sk-toggleable__label {background-color: #d4ebff;}#sk-container-id-2 div.sk-serial::before {content: \"\";position: absolute;border-left: 1px solid gray;box-sizing: border-box;top: 0;bottom: 0;left: 50%;z-index: 0;}#sk-container-id-2 div.sk-serial {display: flex;flex-direction: column;align-items: center;background-color: white;padding-right: 0.2em;padding-left: 0.2em;position: relative;}#sk-container-id-2 div.sk-item {position: relative;z-index: 1;}#sk-container-id-2 div.sk-parallel {display: flex;align-items: stretch;justify-content: center;background-color: white;position: relative;}#sk-container-id-2 div.sk-item::before, #sk-container-id-2 div.sk-parallel-item::before {content: \"\";position: absolute;border-left: 1px solid gray;box-sizing: border-box;top: 0;bottom: 0;left: 50%;z-index: -1;}#sk-container-id-2 div.sk-parallel-item {display: flex;flex-direction: column;z-index: 1;position: relative;background-color: white;}#sk-container-id-2 div.sk-parallel-item:first-child::after {align-self: flex-end;width: 50%;}#sk-container-id-2 div.sk-parallel-item:last-child::after {align-self: flex-start;width: 50%;}#sk-container-id-2 div.sk-parallel-item:only-child::after {width: 0;}#sk-container-id-2 div.sk-dashed-wrapped {border: 1px dashed gray;margin: 0 0.4em 0.5em 0.4em;box-sizing: border-box;padding-bottom: 0.4em;background-color: white;}#sk-container-id-2 div.sk-label label {font-family: monospace;font-weight: bold;display: inline-block;line-height: 1.2em;}#sk-container-id-2 div.sk-label-container {text-align: center;}#sk-container-id-2 div.sk-container {/* jupyter's `normalize.less` sets `[hidden] { display: none; }` but bootstrap.min.css set `[hidden] { display: none !important; }` so we also need the `!important` here to be able to override the default hidden behavior on the sphinx rendered scikit-learn.org. See: https://github.com/scikit-learn/scikit-learn/issues/21755 */display: inline-block !important;position: relative;}#sk-container-id-2 div.sk-text-repr-fallback {display: none;}</style><div id=\"sk-container-id-2\" class=\"sk-top-container\"><div class=\"sk-text-repr-fallback\"><pre>Lasso(alpha=0.01)</pre><b>In a Jupyter environment, please rerun this cell to show the HTML representation or trust the notebook. <br />On GitHub, the HTML representation is unable to render, please try loading this page with nbviewer.org.</b></div><div class=\"sk-container\" hidden><div class=\"sk-item\"><div class=\"sk-estimator sk-toggleable\"><input class=\"sk-toggleable__control sk-hidden--visually\" id=\"sk-estimator-id-2\" type=\"checkbox\" checked><label for=\"sk-estimator-id-2\" class=\"sk-toggleable__label sk-toggleable__label-arrow\">Lasso</label><div class=\"sk-toggleable__content\"><pre>Lasso(alpha=0.01)</pre></div></div></div></div></div>"
      ],
      "text/plain": [
       "Lasso(alpha=0.01)"
      ]
     },
     "execution_count": 140,
     "metadata": {},
     "output_type": "execute_result"
    }
   ],
   "source": [
    "sk_model.fit(X_train, y_train)"
   ]
  },
  {
   "cell_type": "code",
   "execution_count": 141,
   "id": "3dd78cc1",
   "metadata": {},
   "outputs": [],
   "source": [
    "y_pred = sk_model.predict(X_test)"
   ]
  },
  {
   "cell_type": "code",
   "execution_count": 142,
   "id": "d8e70302",
   "metadata": {},
   "outputs": [
    {
     "name": "stdout",
     "output_type": "stream",
     "text": [
      "Lasso\n",
      "r2_score 77.93\n",
      "Adjusted_r2_score 72.42\n",
      "MAE: 2.81\n",
      "MSE: 15.21\n",
      "RMSE: 3.90\n"
     ]
    }
   ],
   "source": [
    "from sklearn import metrics\n",
    "print('Lasso')\n",
    "print('r2_score', \"{:.2f}\".format(metrics.r2_score(y_test,y_pred)*100))\n",
    "score = metrics.r2_score(y_test,y_pred)\n",
    "a_r2 = 1-(1-score)*(len(y_test)-1)/(len(y_test)-X_test.shape[1]-1)\n",
    "print('Adjusted_r2_score',\"{:.2f}\".format(a_r2*100))\n",
    "print('MAE:', \"{:.2f}\".format(metrics.mean_absolute_error(y_test, y_pred)))\n",
    "print('MSE:', \"{:.2f}\".format(metrics.mean_squared_error(y_test, y_pred)))\n",
    "print('RMSE:', \"{:.2f}\".format(np.sqrt(metrics.mean_squared_error(y_test, y_pred))))"
   ]
  },
  {
   "cell_type": "code",
   "execution_count": 144,
   "id": "55b1b75b",
   "metadata": {},
   "outputs": [],
   "source": [
    "a = [[1,1,1,1,1,1,1,1,1,1,1,1,1]]\n",
    "a= np.array(a)"
   ]
  },
  {
   "cell_type": "code",
   "execution_count": 145,
   "id": "a1a138aa",
   "metadata": {},
   "outputs": [
    {
     "data": {
      "text/plain": [
       "array([18.68237643])"
      ]
     },
     "execution_count": 145,
     "metadata": {},
     "output_type": "execute_result"
    }
   ],
   "source": [
    "lasso.predict(a)"
   ]
  },
  {
   "cell_type": "code",
   "execution_count": 147,
   "id": "00ff8486",
   "metadata": {},
   "outputs": [
    {
     "data": {
      "text/html": [
       "<div>\n",
       "<style scoped>\n",
       "    .dataframe tbody tr th:only-of-type {\n",
       "        vertical-align: middle;\n",
       "    }\n",
       "\n",
       "    .dataframe tbody tr th {\n",
       "        vertical-align: top;\n",
       "    }\n",
       "\n",
       "    .dataframe thead th {\n",
       "        text-align: right;\n",
       "    }\n",
       "</style>\n",
       "<table border=\"1\" class=\"dataframe\">\n",
       "  <thead>\n",
       "    <tr style=\"text-align: right;\">\n",
       "      <th></th>\n",
       "      <th>crim</th>\n",
       "      <th>zn</th>\n",
       "      <th>indus</th>\n",
       "      <th>chas</th>\n",
       "      <th>nox</th>\n",
       "      <th>rm</th>\n",
       "      <th>age</th>\n",
       "      <th>dis</th>\n",
       "      <th>rad</th>\n",
       "      <th>tax</th>\n",
       "      <th>ptratio</th>\n",
       "      <th>black</th>\n",
       "      <th>lstat</th>\n",
       "      <th>medv</th>\n",
       "    </tr>\n",
       "  </thead>\n",
       "  <tbody>\n",
       "    <tr>\n",
       "      <th>0</th>\n",
       "      <td>0.00632</td>\n",
       "      <td>18.0</td>\n",
       "      <td>2.31</td>\n",
       "      <td>0</td>\n",
       "      <td>0.538</td>\n",
       "      <td>6.575</td>\n",
       "      <td>65.2</td>\n",
       "      <td>4.09</td>\n",
       "      <td>1</td>\n",
       "      <td>296</td>\n",
       "      <td>15.3</td>\n",
       "      <td>396.9</td>\n",
       "      <td>4.98</td>\n",
       "      <td>24.0</td>\n",
       "    </tr>\n",
       "  </tbody>\n",
       "</table>\n",
       "</div>"
      ],
      "text/plain": [
       "      crim    zn  indus  chas    nox     rm   age   dis  rad  tax  ptratio  \\\n",
       "0  0.00632  18.0   2.31     0  0.538  6.575  65.2  4.09    1  296     15.3   \n",
       "\n",
       "   black  lstat  medv  \n",
       "0  396.9   4.98  24.0  "
      ]
     },
     "execution_count": 147,
     "metadata": {},
     "output_type": "execute_result"
    }
   ],
   "source": [
    "data.head(1)"
   ]
  },
  {
   "cell_type": "code",
   "execution_count": 148,
   "id": "05c9844b",
   "metadata": {},
   "outputs": [],
   "source": [
    "data.to_csv(\"data.csv\")"
   ]
  },
  {
   "cell_type": "code",
   "execution_count": null,
   "id": "1ae62189",
   "metadata": {},
   "outputs": [],
   "source": []
  },
  {
   "cell_type": "code",
   "execution_count": null,
   "id": "fcef9f31",
   "metadata": {},
   "outputs": [],
   "source": []
  },
  {
   "cell_type": "code",
   "execution_count": null,
   "id": "00ace5b9",
   "metadata": {},
   "outputs": [],
   "source": []
  },
  {
   "cell_type": "markdown",
   "id": "d0008804",
   "metadata": {},
   "source": [
    "## Random-Search-CV"
   ]
  },
  {
   "cell_type": "markdown",
   "id": "c7788f77",
   "metadata": {},
   "source": [
    "### Creating \"Random-Search_CV\" function"
   ]
  },
  {
   "cell_type": "code",
   "execution_count": 149,
   "id": "0be42ee9",
   "metadata": {},
   "outputs": [],
   "source": [
    "import numpy as np\n",
    "import random\n",
    "\n",
    "def lasso_regression(X_train, y_train, alpha):\n",
    "    n_samples, n_features = X_train.shape\n",
    "    w = np.zeros(n_features)\n",
    "    b = 0\n",
    "\n",
    "    learning_rate = 0.01\n",
    "    iterations = 1000\n",
    "\n",
    "    for i in range(iterations):\n",
    "        y_pred = np.dot(X_train, w) + b\n",
    "        mse = np.mean((y_pred - y_train) ** 2)\n",
    "        dw = (1 / n_samples) * np.dot(X_train.T, (y_pred - y_train))\n",
    "        db = (1 / n_samples) * np.sum(y_pred - y_train)\n",
    "\n",
    "        w = w - learning_rate * (dw + alpha * np.sign(w))\n",
    "        b = b - learning_rate * db\n",
    "\n",
    "    return w, b\n",
    "\n",
    "def random_search(X, y, alpha_values, n_iter):\n",
    "    results = {}\n",
    "\n",
    "    for i in range(n_iter):\n",
    "        alpha = random.choice(alpha_values)\n",
    "\n",
    "        w, b = lasso_regression(X, y, alpha)\n",
    "        y_pred = np.dot(X, w) + b\n",
    "        mse = np.mean((y_pred - y) ** 2)\n",
    "\n",
    "        results[alpha] = mse\n",
    "\n",
    "    return results\n",
    "\n",
    "def hyperparameter_tuning(X, y, alpha_values, n_iter):\n",
    "    results = random_search(X, y, alpha_values, n_iter)\n",
    "    best_alpha = min(results, key=results.get)\n",
    "    return best_alpha\n"
   ]
  },
  {
   "cell_type": "code",
   "execution_count": 109,
   "id": "846c6ca0",
   "metadata": {},
   "outputs": [
    {
     "name": "stdout",
     "output_type": "stream",
     "text": [
      "Best alpha: 0.1\n"
     ]
    }
   ],
   "source": [
    "alpha_values = [0.01,0.1, 1, 10,100]\n",
    "n_iter = 5\n",
    "\n",
    "best_alpha = hyperparameter_tuning(X_train, y_train, alpha_values, n_iter)\n",
    "print(\"Best alpha:\", best_alpha)"
   ]
  },
  {
   "cell_type": "code",
   "execution_count": 110,
   "id": "4b52d6fb",
   "metadata": {},
   "outputs": [],
   "source": [
    "# Fit the Lasso regression model\n",
    "lasso_rand = LassoRegression(alpha=0.1)\n",
    "lasso_rand.fit(X_train, y_train)\n",
    "\n",
    "# Make predictions on the testing set\n",
    "y_pred_rand = lasso_rand.predict(X_test)"
   ]
  },
  {
   "cell_type": "code",
   "execution_count": 111,
   "id": "258298de",
   "metadata": {},
   "outputs": [],
   "source": [
    "import numpy as np\n",
    "\n",
    "def r2_score(y_test, y_pred_rand):\n",
    "    sse = np.sum((y_test - y_pred_rand) ** 2)\n",
    "    sst = np.sum((y_test - np.mean(y_test)) ** 2)\n",
    "    r2 = 1 - sse / sst\n",
    "    return r2\n"
   ]
  },
  {
   "cell_type": "code",
   "execution_count": 112,
   "id": "0a6a5876",
   "metadata": {},
   "outputs": [
    {
     "name": "stdout",
     "output_type": "stream",
     "text": [
      "R-squared: 77.85095545532522\n"
     ]
    }
   ],
   "source": [
    "r2_rand = r2_score(y_test, y_pred_rand)\n",
    "print(\"R-squared:\", r2_rand*100)"
   ]
  },
  {
   "cell_type": "code",
   "execution_count": 113,
   "id": "5b9db82f",
   "metadata": {},
   "outputs": [],
   "source": [
    "import numpy as np\n",
    "\n",
    "def adjusted_r2_score(y_test, y_pred_rand, n_features):\n",
    "    sse = np.sum((y_test - y_pred_rand) ** 2)\n",
    "    sst = np.sum((y_test - np.mean(y_test)) ** 2)\n",
    "    r2 = 1 - sse / sst\n",
    "    adj_r2 = 1 - ((1 - r2) * (len(y_test) - 1)) / (len(y_test) - n_features - 1)\n",
    "    return adj_r2\n"
   ]
  },
  {
   "cell_type": "code",
   "execution_count": 114,
   "id": "9fe188df",
   "metadata": {},
   "outputs": [
    {
     "name": "stdout",
     "output_type": "stream",
     "text": [
      "Adjusted R-squared: 77.50487663431468\n"
     ]
    }
   ],
   "source": [
    "n_features = 1\n",
    "adj_r2_rand = adjusted_r2_score(y_test, y_pred_rand, n_features)\n",
    "print(\"Adjusted R-squared:\", adj_r2_rand*100)\n"
   ]
  },
  {
   "cell_type": "code",
   "execution_count": 115,
   "id": "1aa35f1f",
   "metadata": {},
   "outputs": [],
   "source": [
    "import numpy as np\n",
    "\n",
    "def mean_absolute_error(y_test, y_pred_rand):\n",
    "    mae = np.mean(np.abs(y_test - y_pred_rand))\n",
    "    return mae\n"
   ]
  },
  {
   "cell_type": "code",
   "execution_count": 116,
   "id": "9741363c",
   "metadata": {},
   "outputs": [
    {
     "name": "stdout",
     "output_type": "stream",
     "text": [
      "Mean absolute error: 2.8058576329674367\n"
     ]
    }
   ],
   "source": [
    "mae_rand = mean_absolute_error(y_test, y_pred_rand)\n",
    "print(\"Mean absolute error:\", mae_rand)"
   ]
  },
  {
   "cell_type": "code",
   "execution_count": 117,
   "id": "f37f2ea6",
   "metadata": {},
   "outputs": [],
   "source": [
    "import numpy as np\n",
    "\n",
    "def mean_squared_error(y_test, y_pred_rand):\n",
    "    mse = np.mean((y_test - y_pred_rand) ** 2)\n",
    "    return mse"
   ]
  },
  {
   "cell_type": "code",
   "execution_count": 118,
   "id": "ac4a9f56",
   "metadata": {},
   "outputs": [
    {
     "name": "stdout",
     "output_type": "stream",
     "text": [
      "Mean squared error: 15.264047607121022\n"
     ]
    }
   ],
   "source": [
    "mse_rand = mean_squared_error(y_test, y_pred_rand)\n",
    "print(\"Mean squared error:\", mse_rand)"
   ]
  },
  {
   "cell_type": "code",
   "execution_count": 119,
   "id": "6b7a929b",
   "metadata": {},
   "outputs": [],
   "source": [
    "import numpy as np\n",
    "\n",
    "def root_mean_squared_error(y_test, y_pred_rand):\n",
    "    mse = np.mean((y_test - y_pred_rand) ** 2)\n",
    "    rmse = np.sqrt(mse)\n",
    "    return rmse\n"
   ]
  },
  {
   "cell_type": "code",
   "execution_count": 120,
   "id": "8c808662",
   "metadata": {},
   "outputs": [
    {
     "name": "stdout",
     "output_type": "stream",
     "text": [
      "Root mean squared error: 3.9069230357304225\n"
     ]
    }
   ],
   "source": [
    "rmse_rand = root_mean_squared_error(y_test, y_pred_rand)\n",
    "print(\"Root mean squared error:\", rmse_rand)"
   ]
  },
  {
   "cell_type": "markdown",
   "id": "7583e140",
   "metadata": {},
   "source": [
    "## K-Fold-Cross-Validation"
   ]
  },
  {
   "cell_type": "markdown",
   "id": "d2760873",
   "metadata": {},
   "source": [
    "### Creating \"K-Fold-Cross-Validation\" function"
   ]
  },
  {
   "cell_type": "code",
   "execution_count": 121,
   "id": "ee8a6f84",
   "metadata": {},
   "outputs": [],
   "source": [
    "import numpy as np\n",
    "\n",
    "def lasso_regression(X_train, y_train, alpha):\n",
    "    n_samples, n_features = X_train.shape\n",
    "    w = np.zeros(n_features)\n",
    "    b = 0\n",
    "\n",
    "    learning_rate = 0.01\n",
    "    iterations = 1000\n",
    "\n",
    "    for i in range(iterations):\n",
    "        y_pred = np.dot(X_train, w) + b\n",
    "        mse = np.mean((y_pred - y_train) ** 2)\n",
    "        dw = (1 / n_samples) * np.dot(X_train.T, (y_pred - y_train))\n",
    "        db = (1 / n_samples) * np.sum(y_pred - y_train)\n",
    "\n",
    "        w = w - learning_rate * (dw + alpha * np.sign(w))\n",
    "        b = b - learning_rate * db\n",
    "\n",
    "    return w, b\n",
    "\n",
    "def k_fold_cross_validation(X, y, k, alpha_values):\n",
    "    fold_size = len(X) // k\n",
    "    results = {}\n",
    "\n",
    "    for alpha in alpha_values:\n",
    "        mse_sum = 0\n",
    "        for i in range(k):\n",
    "            val_start = i * fold_size\n",
    "            val_end = (i + 1) * fold_size\n",
    "\n",
    "            X_val = X[val_start:val_end]\n",
    "            y_val = y[val_start:val_end]\n",
    "\n",
    "            X_train = np.concatenate([X[:val_start], X[val_end:]])\n",
    "            y_train = np.concatenate([y[:val_start], y[val_end:]])\n",
    "\n",
    "            w, b = lasso_regression(X_train, y_train, alpha)\n",
    "            y_pred = np.dot(X_val, w) + b\n",
    "            mse_sum += np.mean((y_pred - y_val) ** 2)\n",
    "\n",
    "        results[alpha] = mse_sum / k\n",
    "\n",
    "    return results\n",
    "\n",
    "def hyperparameter_tuning(X, y, k, alpha_values):\n",
    "    results = k_fold_cross_validation(X, y, k, alpha_values)\n",
    "    best_alpha = min(results, key=results.get)\n",
    "    return best_alpha\n"
   ]
  },
  {
   "cell_type": "code",
   "execution_count": 122,
   "id": "b851e414",
   "metadata": {},
   "outputs": [
    {
     "name": "stdout",
     "output_type": "stream",
     "text": [
      "Best alpha: 0.01\n"
     ]
    }
   ],
   "source": [
    "k = 3\n",
    "alpha_values = [0.01, 0.1,0.5, 1, 5, 10, 100]\n",
    "\n",
    "best_alpha = hyperparameter_tuning(X_train, y_train, k, alpha_values)\n",
    "print(\"Best alpha:\", best_alpha)"
   ]
  },
  {
   "cell_type": "code",
   "execution_count": 123,
   "id": "339aac89",
   "metadata": {},
   "outputs": [],
   "source": [
    "# Fit the Lasso regression model\n",
    "lasso_kfold = LassoRegression(alpha=0.01)\n",
    "lasso_kfold.fit(X_train, y_train)\n",
    "\n",
    "# Make predictions on the testing set\n",
    "y_pred_kfold = lasso_kfold.predict(X_test)"
   ]
  },
  {
   "cell_type": "code",
   "execution_count": 124,
   "id": "4a801e1e",
   "metadata": {},
   "outputs": [],
   "source": [
    "import numpy as np\n",
    "\n",
    "def r2_score(y_test, y_pred_kfold):\n",
    "    sse = np.sum((y_test - y_pred_kfold) ** 2)\n",
    "    sst = np.sum((y_test - np.mean(y_test)) ** 2)\n",
    "    r2 = 1 - sse / sst\n",
    "    return r2\n"
   ]
  },
  {
   "cell_type": "code",
   "execution_count": 125,
   "id": "6fa65468",
   "metadata": {},
   "outputs": [
    {
     "name": "stdout",
     "output_type": "stream",
     "text": [
      "R-squared: 77.84785902965612\n"
     ]
    }
   ],
   "source": [
    "r2_kfold = r2_score(y_test, y_pred_kfold)\n",
    "print(\"R-squared:\", r2_kfold*100)"
   ]
  },
  {
   "cell_type": "code",
   "execution_count": 126,
   "id": "98cb7d85",
   "metadata": {},
   "outputs": [],
   "source": [
    "import numpy as np\n",
    "\n",
    "def adjusted_r2_score(y_test, y_pred_kfold, n_features):\n",
    "    sse = np.sum((y_test - y_pred_kfold) ** 2)\n",
    "    sst = np.sum((y_test - np.mean(y_test)) ** 2)\n",
    "    r2 = 1 - sse / sst\n",
    "    adj_r2 = 1 - ((1 - r2) * (len(y_test) - 1)) / (len(y_test) - n_features - 1)\n",
    "    return adj_r2\n"
   ]
  },
  {
   "cell_type": "code",
   "execution_count": 127,
   "id": "56957193",
   "metadata": {},
   "outputs": [
    {
     "name": "stdout",
     "output_type": "stream",
     "text": [
      "Adjusted R-squared: 77.50173182699449\n"
     ]
    }
   ],
   "source": [
    "n_features = 1\n",
    "adj_r2_kfold = adjusted_r2_score(y_test, y_pred_kfold, n_features)\n",
    "print(\"Adjusted R-squared:\", adj_r2_kfold*100)\n"
   ]
  },
  {
   "cell_type": "code",
   "execution_count": 128,
   "id": "51d0f617",
   "metadata": {},
   "outputs": [],
   "source": [
    "import numpy as np\n",
    "\n",
    "def mean_absolute_error(y_test, y_pred_kfold):\n",
    "    mae = np.mean(np.abs(y_test - y_pred_kfold))\n",
    "    return mae\n"
   ]
  },
  {
   "cell_type": "code",
   "execution_count": 129,
   "id": "840810b8",
   "metadata": {},
   "outputs": [
    {
     "name": "stdout",
     "output_type": "stream",
     "text": [
      "Mean absolute error: 2.8059474775537003\n"
     ]
    }
   ],
   "source": [
    "mae_kfold = mean_absolute_error(y_test, y_pred_kfold)\n",
    "print(\"Mean absolute error:\", mae_kfold)"
   ]
  },
  {
   "cell_type": "code",
   "execution_count": 130,
   "id": "49044c2d",
   "metadata": {},
   "outputs": [],
   "source": [
    "import numpy as np\n",
    "\n",
    "def mean_squared_error(y_test, y_pred_kfold):\n",
    "    mse = np.mean((y_test - y_pred_kfold) ** 2)\n",
    "    return mse"
   ]
  },
  {
   "cell_type": "code",
   "execution_count": 131,
   "id": "c3cf4c62",
   "metadata": {},
   "outputs": [
    {
     "name": "stdout",
     "output_type": "stream",
     "text": [
      "Mean squared error: 15.266181513562444\n"
     ]
    }
   ],
   "source": [
    "mse_kfold = mean_squared_error(y_test, y_pred_kfold)\n",
    "print(\"Mean squared error:\", mse_kfold)\n"
   ]
  },
  {
   "cell_type": "code",
   "execution_count": 132,
   "id": "16e51e8f",
   "metadata": {},
   "outputs": [],
   "source": [
    "import numpy as np\n",
    "\n",
    "def root_mean_squared_error(y_test, y_pred_kfold):\n",
    "    mse = np.mean((y_test - y_pred_kfold) ** 2)\n",
    "    rmse = np.sqrt(mse)\n",
    "    return rmse\n"
   ]
  },
  {
   "cell_type": "code",
   "execution_count": 133,
   "id": "d41d515d",
   "metadata": {},
   "outputs": [
    {
     "name": "stdout",
     "output_type": "stream",
     "text": [
      "Root mean squared error: 3.9071961191578857\n"
     ]
    }
   ],
   "source": [
    "rmse_kfold = root_mean_squared_error(y_test, y_pred_kfold)\n",
    "print(\"Root mean squared error:\", rmse_kfold)"
   ]
  },
  {
   "cell_type": "markdown",
   "id": "a53bd3a5",
   "metadata": {},
   "source": [
    "# Conclusion\n",
    "## Grid Search has given the best R2_score : 78.09\n",
    "## And best MSE, RMSE : 15.09, 3.88"
   ]
  },
  {
   "cell_type": "markdown",
   "id": "b04f3c64",
   "metadata": {},
   "source": [
    "#### ****"
   ]
  },
  {
   "cell_type": "markdown",
   "id": "03a418fb",
   "metadata": {},
   "source": [
    "# ****** "
   ]
  },
  {
   "cell_type": "markdown",
   "id": "2858e6ab",
   "metadata": {},
   "source": [
    "## Performance matrics"
   ]
  },
  {
   "cell_type": "markdown",
   "id": "32e2a8af",
   "metadata": {},
   "source": [
    "## Lasso_Regression"
   ]
  },
  {
   "cell_type": "code",
   "execution_count": 134,
   "id": "6cdec6ce",
   "metadata": {},
   "outputs": [
    {
     "name": "stdout",
     "output_type": "stream",
     "text": [
      "R-squared for lasso: 77.88\n",
      "Adjusted R-squared for lasso: 77.54\n",
      "Mean absolute error for lasso: 2.81\n",
      "Mean squared error for lasso: 15.24\n",
      "Root mean squared error for lasso: 3.90\n"
     ]
    }
   ],
   "source": [
    "print(\"R-squared for lasso:\", \"{:.2f}\".format(r2*100))\n",
    "print(\"Adjusted R-squared for lasso:\", \"{:.2f}\".format(adj_r2*100))\n",
    "print(\"Mean absolute error for lasso:\", \"{:.2f}\".format(mae))\n",
    "print(\"Mean squared error for lasso:\", \"{:.2f}\".format(mse))\n",
    "print(\"Root mean squared error for lasso:\", \"{:.2f}\".format(rmse))\n"
   ]
  },
  {
   "cell_type": "markdown",
   "id": "f82ce4ab",
   "metadata": {},
   "source": [
    "## Grid-Search-CV"
   ]
  },
  {
   "cell_type": "code",
   "execution_count": 135,
   "id": "4565aebf",
   "metadata": {},
   "outputs": [
    {
     "name": "stdout",
     "output_type": "stream",
     "text": [
      "R-squared for grid search cv: 78.10\n",
      "Adjusted R-squared for grid search cv: 77.76\n",
      "Mean absolute error for grid search cv: 2.82\n",
      "Mean squared error for grid search cv: 15.09\n",
      "Root mean squared error for grid search cv: 3.88\n"
     ]
    }
   ],
   "source": [
    "print(\"R-squared for grid search cv:\", \"{:.2f}\".format(r2_grid*100))\n",
    "print(\"Adjusted R-squared for grid search cv:\", \"{:.2f}\".format(adj_r2_grid*100))\n",
    "print(\"Mean absolute error for grid search cv:\", \"{:.2f}\".format(mae_grid))\n",
    "print(\"Mean squared error for grid search cv:\", \"{:.2f}\".format(mse_grid))\n",
    "print(\"Root mean squared error for grid search cv:\", \"{:.2f}\".format(rmse_grid))\n"
   ]
  },
  {
   "cell_type": "markdown",
   "id": "b662051b",
   "metadata": {},
   "source": [
    "## Random-Search-CV"
   ]
  },
  {
   "cell_type": "code",
   "execution_count": 136,
   "id": "23e1bd88",
   "metadata": {},
   "outputs": [
    {
     "name": "stdout",
     "output_type": "stream",
     "text": [
      "R-squared for random search cv: 77.85\n",
      "Adjusted R-squared for random search cv: 77.50\n",
      "Mean absolute error for random search cv: 2.81\n",
      "Mean squared error for random search cv: 15.26\n",
      "Root mean squared error for random search cv: 3.91\n"
     ]
    }
   ],
   "source": [
    "print(\"R-squared for random search cv:\", \"{:.2f}\".format(r2_rand*100))\n",
    "print(\"Adjusted R-squared for random search cv:\", \"{:.2f}\".format(adj_r2_rand*100))\n",
    "print(\"Mean absolute error for random search cv:\", \"{:.2f}\".format(mae_rand))\n",
    "print(\"Mean squared error for random search cv:\", \"{:.2f}\".format(mse_rand))\n",
    "print(\"Root mean squared error for random search cv:\", \"{:.2f}\".format(rmse_rand))\n"
   ]
  },
  {
   "cell_type": "markdown",
   "id": "465f77eb",
   "metadata": {},
   "source": [
    "## Kfold-Cross-Validation"
   ]
  },
  {
   "cell_type": "code",
   "execution_count": 137,
   "id": "dace1164",
   "metadata": {},
   "outputs": [
    {
     "name": "stdout",
     "output_type": "stream",
     "text": [
      "R-squared for Kfold cross validation: 77.85\n",
      "Adjusted R-squared for Kfold cross validation: 77.50\n",
      "Mean absolute error for Kfold cross validation: 2.81\n",
      "Mean squared error for Kfold cross validation: 15.27\n",
      "Root mean squared error for Kfold cross validation: 3.91\n"
     ]
    }
   ],
   "source": [
    "print(\"R-squared for Kfold cross validation:\", \"{:.2f}\".format(r2_kfold*100))\n",
    "print(\"Adjusted R-squared for Kfold cross validation:\", \"{:.2f}\".format(adj_r2_kfold*100))\n",
    "print(\"Mean absolute error for Kfold cross validation:\", \"{:.2f}\".format(mae_kfold))\n",
    "print(\"Mean squared error for Kfold cross validation:\", \"{:.2f}\".format(mse_kfold))\n",
    "print(\"Root mean squared error for Kfold cross validation:\", \"{:.2f}\".format(rmse_kfold))"
   ]
  },
  {
   "cell_type": "markdown",
   "id": "40e1ae98",
   "metadata": {},
   "source": [
    "#####    Reddappa M R"
   ]
  },
  {
   "cell_type": "code",
   "execution_count": null,
   "id": "52d930f6",
   "metadata": {},
   "outputs": [],
   "source": []
  }
 ],
 "metadata": {
  "kernelspec": {
   "display_name": "Python 3 (ipykernel)",
   "language": "python",
   "name": "python3"
  },
  "language_info": {
   "codemirror_mode": {
    "name": "ipython",
    "version": 3
   },
   "file_extension": ".py",
   "mimetype": "text/x-python",
   "name": "python",
   "nbconvert_exporter": "python",
   "pygments_lexer": "ipython3",
   "version": "3.10.9"
  }
 },
 "nbformat": 4,
 "nbformat_minor": 5
}
